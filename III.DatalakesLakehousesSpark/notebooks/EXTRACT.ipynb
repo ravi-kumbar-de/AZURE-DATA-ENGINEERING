{
 "cells": [
  {
   "cell_type": "markdown",
   "metadata": {
    "application/vnd.databricks.v1+cell": {
     "cellMetadata": {
      "byteLimit": 2048000,
      "rowLimit": 10000
     },
     "inputWidgets": {},
     "nuid": "eb43e015-320e-4ff8-b54d-bea7a603dc36",
     "showTitle": false,
     "title": ""
    }
   },
   "source": [
    "# Task 3.1. EXTRACT data from those raw CSV files in Bronze data store"
   ]
  },
  {
   "cell_type": "markdown",
   "metadata": {
    "application/vnd.databricks.v1+cell": {
     "cellMetadata": {
      "byteLimit": 2048000,
      "rowLimit": 10000
     },
     "inputWidgets": {},
     "nuid": "d49bd368-5038-4155-9266-2e09fbec6391",
     "showTitle": false,
     "title": ""
    }
   },
   "source": [
    "Predefined parameters:"
   ]
  },
  {
   "cell_type": "code",
   "execution_count": 0,
   "metadata": {
    "application/vnd.databricks.v1+cell": {
     "cellMetadata": {
      "byteLimit": 2048000,
      "rowLimit": 10000
     },
     "inputWidgets": {},
     "nuid": "8b0b22f1-5f46-492f-abbb-6c733abda9aa",
     "showTitle": false,
     "title": ""
    }
   },
   "outputs": [],
   "source": [
    "nrows_display = 20"
   ]
  },
  {
   "cell_type": "markdown",
   "metadata": {
    "application/vnd.databricks.v1+cell": {
     "cellMetadata": {
      "byteLimit": 2048000,
      "rowLimit": 10000
     },
     "inputWidgets": {},
     "nuid": "93fae6cc-4efd-4281-b5cd-8da24d7e663a",
     "showTitle": false,
     "title": ""
    }
   },
   "source": [
    "## 1. Payment table"
   ]
  },
  {
   "cell_type": "markdown",
   "metadata": {
    "application/vnd.databricks.v1+cell": {
     "cellMetadata": {
      "byteLimit": 2048000,
      "rowLimit": 10000
     },
     "inputWidgets": {},
     "nuid": "4d7bfa14-2d16-4a40-a6fd-d58aed758702",
     "showTitle": false,
     "title": ""
    }
   },
   "source": [
    "- (Fact) Payment:\n",
    "    + `payment_id` : surrogate primary key of the payment, int format.\n",
    "    + `date` : date of the payment, date format of `yyyy-mm-dd`.\n",
    "    + `amount` : payment amount, float format.\n",
    "    + `rider_id` : secondary key, representing ID of rider, int format."
   ]
  },
  {
   "cell_type": "code",
   "execution_count": 0,
   "metadata": {
    "application/vnd.databricks.v1+cell": {
     "cellMetadata": {
      "byteLimit": 2048000,
      "rowLimit": 10000
     },
     "inputWidgets": {},
     "nuid": "1811df93-e7ec-4139-8642-f7dbd4f2fe68",
     "showTitle": false,
     "title": ""
    }
   },
   "outputs": [],
   "source": [
    "payment_delta = spark.read.format(\"csv\")            \\\n",
    "    .option(\"inferSchema\", \"false\")                 \\\n",
    "    .option(\"header\", \"false\")                      \\\n",
    "    .option(\"sep\", \",\")                             \\\n",
    "    .load(\"dbfs:/FileStore/tables/payments.csv\")    \\\n",
    "    .toDF(                                          \\\n",
    "        \"payment_id\",                               \\\n",
    "        \"date\",                                     \\\n",
    "        \"amount\",                                   \\\n",
    "        \"rider\"                                     \\\n",
    "    )"
   ]
  },
  {
   "cell_type": "markdown",
   "metadata": {
    "application/vnd.databricks.v1+cell": {
     "cellMetadata": {
      "byteLimit": 2048000,
      "rowLimit": 10000
     },
     "inputWidgets": {},
     "nuid": "2cdf7eb4-eba1-4977-804f-b1eccd6e0a94",
     "showTitle": false,
     "title": ""
    }
   },
   "source": [
    "Upon finish, review the schema."
   ]
  },
  {
   "cell_type": "code",
   "execution_count": 0,
   "metadata": {
    "application/vnd.databricks.v1+cell": {
     "cellMetadata": {
      "byteLimit": 2048000,
      "rowLimit": 10000
     },
     "inputWidgets": {},
     "nuid": "51cbc7bb-1ab8-4250-baed-7fcdcbc8e891",
     "showTitle": false,
     "title": ""
    }
   },
   "outputs": [
    {
     "output_type": "stream",
     "name": "stdout",
     "output_type": "stream",
     "text": [
      "root\n |-- payment_id: string (nullable = true)\n |-- date: string (nullable = true)\n |-- amount: string (nullable = true)\n |-- rider: string (nullable = true)\n\n"
     ]
    }
   ],
   "source": [
    "payment_delta.printSchema()"
   ]
  },
  {
   "cell_type": "markdown",
   "metadata": {
    "application/vnd.databricks.v1+cell": {
     "cellMetadata": {
      "byteLimit": 2048000,
      "rowLimit": 10000
     },
     "inputWidgets": {},
     "nuid": "cb378bd3-c8b7-4d7d-9112-2b61cf21a014",
     "showTitle": false,
     "title": ""
    }
   },
   "source": [
    "Also, get some head rows to verify the data."
   ]
  },
  {
   "cell_type": "code",
   "execution_count": 0,
   "metadata": {
    "application/vnd.databricks.v1+cell": {
     "cellMetadata": {
      "byteLimit": 2048000,
      "rowLimit": 10000
     },
     "inputWidgets": {},
     "nuid": "2779b536-73cf-4976-8ce9-d4abaf6eea15",
     "showTitle": false,
     "title": ""
    }
   },
   "outputs": [
    {
     "output_type": "display_data",
     "data": {
      "text/html": [
       "<style scoped>\n",
       "  .table-result-container {\n",
       "    max-height: 300px;\n",
       "    overflow: auto;\n",
       "  }\n",
       "  table, th, td {\n",
       "    border: 1px solid black;\n",
       "    border-collapse: collapse;\n",
       "  }\n",
       "  th, td {\n",
       "    padding: 5px;\n",
       "  }\n",
       "  th {\n",
       "    text-align: left;\n",
       "  }\n",
       "</style><div class='table-result-container'><table class='table-result'><thead style='background-color: white'><tr><th>payment_id</th><th>date</th><th>amount</th><th>rider</th></tr></thead><tbody><tr><td>1</td><td>2019-05-01</td><td>9.0</td><td>1000</td></tr><tr><td>2</td><td>2019-06-01</td><td>9.0</td><td>1000</td></tr><tr><td>3</td><td>2019-07-01</td><td>9.0</td><td>1000</td></tr><tr><td>4</td><td>2019-08-01</td><td>9.0</td><td>1000</td></tr><tr><td>5</td><td>2019-09-01</td><td>9.0</td><td>1000</td></tr><tr><td>6</td><td>2019-10-01</td><td>9.0</td><td>1000</td></tr><tr><td>7</td><td>2019-11-01</td><td>9.0</td><td>1000</td></tr><tr><td>8</td><td>2019-12-01</td><td>9.0</td><td>1000</td></tr><tr><td>9</td><td>2020-01-01</td><td>9.0</td><td>1000</td></tr><tr><td>10</td><td>2020-02-01</td><td>9.0</td><td>1000</td></tr><tr><td>11</td><td>2020-03-01</td><td>9.0</td><td>1000</td></tr><tr><td>12</td><td>2020-04-01</td><td>9.0</td><td>1000</td></tr><tr><td>13</td><td>2020-05-01</td><td>9.0</td><td>1000</td></tr><tr><td>14</td><td>2020-06-01</td><td>9.0</td><td>1000</td></tr><tr><td>15</td><td>2020-07-01</td><td>9.0</td><td>1000</td></tr><tr><td>16</td><td>2020-08-01</td><td>9.0</td><td>1000</td></tr><tr><td>17</td><td>2020-09-01</td><td>9.0</td><td>1000</td></tr><tr><td>18</td><td>2020-10-01</td><td>9.0</td><td>1000</td></tr><tr><td>19</td><td>2020-11-01</td><td>9.0</td><td>1000</td></tr><tr><td>20</td><td>2020-12-01</td><td>9.0</td><td>1000</td></tr></tbody></table></div>"
      ]
     },
     "metadata": {
      "application/vnd.databricks.v1+output": {
       "addedWidgets": {},
       "aggData": [],
       "aggError": "",
       "aggOverflow": false,
       "aggSchema": [],
       "aggSeriesLimitReached": false,
       "aggType": "",
       "arguments": {},
       "columnCustomDisplayInfos": {},
       "data": [
        [
         "1",
         "2019-05-01",
         "9.0",
         "1000"
        ],
        [
         "2",
         "2019-06-01",
         "9.0",
         "1000"
        ],
        [
         "3",
         "2019-07-01",
         "9.0",
         "1000"
        ],
        [
         "4",
         "2019-08-01",
         "9.0",
         "1000"
        ],
        [
         "5",
         "2019-09-01",
         "9.0",
         "1000"
        ],
        [
         "6",
         "2019-10-01",
         "9.0",
         "1000"
        ],
        [
         "7",
         "2019-11-01",
         "9.0",
         "1000"
        ],
        [
         "8",
         "2019-12-01",
         "9.0",
         "1000"
        ],
        [
         "9",
         "2020-01-01",
         "9.0",
         "1000"
        ],
        [
         "10",
         "2020-02-01",
         "9.0",
         "1000"
        ],
        [
         "11",
         "2020-03-01",
         "9.0",
         "1000"
        ],
        [
         "12",
         "2020-04-01",
         "9.0",
         "1000"
        ],
        [
         "13",
         "2020-05-01",
         "9.0",
         "1000"
        ],
        [
         "14",
         "2020-06-01",
         "9.0",
         "1000"
        ],
        [
         "15",
         "2020-07-01",
         "9.0",
         "1000"
        ],
        [
         "16",
         "2020-08-01",
         "9.0",
         "1000"
        ],
        [
         "17",
         "2020-09-01",
         "9.0",
         "1000"
        ],
        [
         "18",
         "2020-10-01",
         "9.0",
         "1000"
        ],
        [
         "19",
         "2020-11-01",
         "9.0",
         "1000"
        ],
        [
         "20",
         "2020-12-01",
         "9.0",
         "1000"
        ]
       ],
       "datasetInfos": [],
       "dbfsResultPath": null,
       "isJsonSchema": true,
       "metadata": {},
       "overflow": false,
       "plotOptions": {
        "customPlotOptions": {},
        "displayType": "table",
        "pivotAggregation": null,
        "pivotColumns": null,
        "xColumns": null,
        "yColumns": null
       },
       "removedWidgets": [],
       "schema": [
        {
         "metadata": "{}",
         "name": "payment_id",
         "type": "\"string\""
        },
        {
         "metadata": "{}",
         "name": "date",
         "type": "\"string\""
        },
        {
         "metadata": "{}",
         "name": "amount",
         "type": "\"string\""
        },
        {
         "metadata": "{}",
         "name": "rider",
         "type": "\"string\""
        }
       ],
       "type": "table"
      }
     },
     "output_type": "display_data"
    }
   ],
   "source": [
    "display(payment_delta.limit(nrows_display))"
   ]
  },
  {
   "cell_type": "markdown",
   "metadata": {
    "application/vnd.databricks.v1+cell": {
     "cellMetadata": {
      "byteLimit": 2048000,
      "rowLimit": 10000
     },
     "inputWidgets": {},
     "nuid": "57fb7ef7-d6f0-41fc-abed-61e9b75baba9",
     "showTitle": false,
     "title": ""
    }
   },
   "source": [
    "Finally, write data to Delta file location."
   ]
  },
  {
   "cell_type": "code",
   "execution_count": 0,
   "metadata": {
    "application/vnd.databricks.v1+cell": {
     "cellMetadata": {
      "byteLimit": 2048000,
      "rowLimit": 10000
     },
     "inputWidgets": {},
     "nuid": "ddc4e16d-88c8-4b98-98b3-4dab43ab1e1b",
     "showTitle": false,
     "title": ""
    }
   },
   "outputs": [],
   "source": [
    "payment_delta.write.format(\"delta\")         \\\n",
    "    .mode(\"overwrite\")                      \\\n",
    "    .option(\"overwriteSchema\", \"true\")      \\\n",
    "    .save(\"/delta/payments\")"
   ]
  },
  {
   "cell_type": "markdown",
   "metadata": {
    "application/vnd.databricks.v1+cell": {
     "cellMetadata": {
      "byteLimit": 2048000,
      "rowLimit": 10000
     },
     "inputWidgets": {},
     "nuid": "8fa14147-86a1-4359-a994-a4ca18aebc2e",
     "showTitle": false,
     "title": ""
    }
   },
   "source": [
    "Then do the same with all other 4 tables."
   ]
  },
  {
   "cell_type": "markdown",
   "metadata": {
    "application/vnd.databricks.v1+cell": {
     "cellMetadata": {},
     "inputWidgets": {},
     "nuid": "39e81753-e217-4877-9cb7-633733b7703a",
     "showTitle": false,
     "title": ""
    }
   },
   "source": [
    "## 2. Trip table"
   ]
  },
  {
   "cell_type": "code",
   "execution_count": 0,
   "metadata": {
    "application/vnd.databricks.v1+cell": {
     "cellMetadata": {
      "byteLimit": 2048000,
      "rowLimit": 10000
     },
     "inputWidgets": {},
     "nuid": "997402e1-df8e-4575-8673-8c997e88cd4f",
     "showTitle": false,
     "title": ""
    }
   },
   "outputs": [],
   "source": [
    "trip_delta = spark.read.format(\"csv\")               \\\n",
    "    .option(\"inferSchema\", \"false\")                 \\\n",
    "    .option(\"header\", \"false\")                      \\\n",
    "    .option(\"sep\", \",\")                             \\\n",
    "    .load(\"dbfs:/FileStore/tables/trips.csv\")       \\\n",
    "    .toDF(                                          \\\n",
    "        \"trip_id\",                                  \\\n",
    "        \"rideable_type\",                            \\\n",
    "        \"started_at\",                               \\\n",
    "        \"ended_at\",                                 \\\n",
    "        \"start_station_id\",                         \\\n",
    "        \"end_station_id\",                           \\\n",
    "        \"rider_id\"                                  \\\n",
    "    )"
   ]
  },
  {
   "cell_type": "code",
   "execution_count": 0,
   "metadata": {
    "application/vnd.databricks.v1+cell": {
     "cellMetadata": {
      "byteLimit": 2048000,
      "rowLimit": 10000
     },
     "inputWidgets": {},
     "nuid": "74f8d7f5-ce90-4076-b3a6-32dca35edad2",
     "showTitle": false,
     "title": ""
    }
   },
   "outputs": [
    {
     "output_type": "stream",
     "name": "stdout",
     "output_type": "stream",
     "text": [
      "root\n |-- trip_id: string (nullable = true)\n |-- rideable_type: string (nullable = true)\n |-- started_at: string (nullable = true)\n |-- ended_at: string (nullable = true)\n |-- start_station_id: string (nullable = true)\n |-- end_station_id: string (nullable = true)\n |-- rider_id: string (nullable = true)\n\n"
     ]
    }
   ],
   "source": [
    "trip_delta.printSchema()"
   ]
  },
  {
   "cell_type": "code",
   "execution_count": 0,
   "metadata": {
    "application/vnd.databricks.v1+cell": {
     "cellMetadata": {
      "byteLimit": 2048000,
      "rowLimit": 10000
     },
     "inputWidgets": {},
     "nuid": "634daf3b-8f42-486f-a047-69360279e6a9",
     "showTitle": false,
     "title": ""
    }
   },
   "outputs": [
    {
     "output_type": "display_data",
     "data": {
      "text/html": [
       "<style scoped>\n",
       "  .table-result-container {\n",
       "    max-height: 300px;\n",
       "    overflow: auto;\n",
       "  }\n",
       "  table, th, td {\n",
       "    border: 1px solid black;\n",
       "    border-collapse: collapse;\n",
       "  }\n",
       "  th, td {\n",
       "    padding: 5px;\n",
       "  }\n",
       "  th {\n",
       "    text-align: left;\n",
       "  }\n",
       "</style><div class='table-result-container'><table class='table-result'><thead style='background-color: white'><tr><th>trip_id</th><th>rideable_type</th><th>started_at</th><th>ended_at</th><th>start_station_id</th><th>end_station_id</th><th>rider_id</th></tr></thead><tbody><tr><td>89E7AA6C29227EFF</td><td>classic_bike</td><td>2021-02-12 16:14:56</td><td>2021-02-12 16:21:43</td><td>525</td><td>660</td><td>71934</td></tr><tr><td>0FEFDE2603568365</td><td>classic_bike</td><td>2021-02-14 17:52:38</td><td>2021-02-14 18:12:09</td><td>525</td><td>16806</td><td>47854</td></tr><tr><td>E6159D746B2DBB91</td><td>electric_bike</td><td>2021-02-09 19:10:18</td><td>2021-02-09 19:19:10</td><td>KA1503000012</td><td>TA1305000029</td><td>70870</td></tr><tr><td>B32D3199F1C2E75B</td><td>classic_bike</td><td>2021-02-02 17:49:41</td><td>2021-02-02 17:54:06</td><td>637</td><td>TA1305000034</td><td>58974</td></tr><tr><td>83E463F23575F4BF</td><td>electric_bike</td><td>2021-02-23 15:07:23</td><td>2021-02-23 15:22:37</td><td>13216</td><td>TA1309000055</td><td>39608</td></tr><tr><td>BDAA7E3494E8D545</td><td>electric_bike</td><td>2021-02-24 15:43:33</td><td>2021-02-24 15:49:05</td><td>18003</td><td>KP1705001026</td><td>36267</td></tr><tr><td>A772742351171257</td><td>classic_bike</td><td>2021-02-01 17:47:42</td><td>2021-02-01 17:48:33</td><td>KP1705001026</td><td>KP1705001026</td><td>50104</td></tr><tr><td>295476889D9B79F8</td><td>classic_bike</td><td>2021-02-11 18:33:53</td><td>2021-02-11 18:35:09</td><td>18003</td><td>18003</td><td>19618</td></tr><tr><td>362087194BA4CC9A</td><td>classic_bike</td><td>2021-02-27 15:13:39</td><td>2021-02-27 15:36:36</td><td>KP1705001026</td><td>KP1705001026</td><td>16732</td></tr><tr><td>21630F715038CCB0</td><td>classic_bike</td><td>2021-02-20 08:59:42</td><td>2021-02-20 09:17:04</td><td>KP1705001026</td><td>KP1705001026</td><td>57068</td></tr><tr><td>A977EB7FE7F5CD3A</td><td>classic_bike</td><td>2021-02-20 08:58:16</td><td>2021-02-20 08:58:41</td><td>KP1705001026</td><td>KP1705001026</td><td>32712</td></tr><tr><td>8B868B03D6753C2A</td><td>classic_bike</td><td>2021-02-20 16:45:11</td><td>2021-02-20 16:59:47</td><td>KP1705001026</td><td>KP1705001026</td><td>23227</td></tr><tr><td>BD331D658B9D2C31</td><td>classic_bike</td><td>2021-02-18 13:21:03</td><td>2021-02-18 13:25:20</td><td>525</td><td>520</td><td>73221</td></tr><tr><td>8DFEA9BAFE6BAA62</td><td>classic_bike</td><td>2021-02-26 17:40:05</td><td>2021-02-26 17:42:49</td><td>13253</td><td>TA1309000050</td><td>22163</td></tr><tr><td>27BE9F6E67AFD86C</td><td>classic_bike</td><td>2021-02-06 14:40:25</td><td>2021-02-06 14:55:50</td><td>525</td><td>15578</td><td>7566</td></tr><tr><td>9B790D47A0A0F7F1</td><td>classic_bike</td><td>2021-02-19 23:25:40</td><td>2021-02-20 00:10:00</td><td>KA1503000044</td><td>KA1504000142</td><td>71588</td></tr><tr><td>3C2DF72600B1DE6C</td><td>classic_bike</td><td>2021-02-18 23:20:10</td><td>2021-02-19 00:01:39</td><td>KA1503000044</td><td>KA1504000142</td><td>38661</td></tr><tr><td>48A8D07ED9C7065C</td><td>classic_bike</td><td>2021-02-20 23:35:29</td><td>2021-02-21 00:17:18</td><td>KA1503000044</td><td>KA1504000142</td><td>64751</td></tr><tr><td>BBFF2AAA0A3A1A26</td><td>electric_bike</td><td>2021-02-02 15:48:52</td><td>2021-02-02 16:03:40</td><td>KA1504000140</td><td>17660</td><td>10721</td></tr><tr><td>030723CBA8CF05E7</td><td>classic_bike</td><td>2021-02-23 07:44:12</td><td>2021-02-23 07:48:57</td><td>TA1305000032</td><td>15542</td><td>13281</td></tr></tbody></table></div>"
      ]
     },
     "metadata": {
      "application/vnd.databricks.v1+output": {
       "addedWidgets": {},
       "aggData": [],
       "aggError": "",
       "aggOverflow": false,
       "aggSchema": [],
       "aggSeriesLimitReached": false,
       "aggType": "",
       "arguments": {},
       "columnCustomDisplayInfos": {},
       "data": [
        [
         "89E7AA6C29227EFF",
         "classic_bike",
         "2021-02-12 16:14:56",
         "2021-02-12 16:21:43",
         "525",
         "660",
         "71934"
        ],
        [
         "0FEFDE2603568365",
         "classic_bike",
         "2021-02-14 17:52:38",
         "2021-02-14 18:12:09",
         "525",
         "16806",
         "47854"
        ],
        [
         "E6159D746B2DBB91",
         "electric_bike",
         "2021-02-09 19:10:18",
         "2021-02-09 19:19:10",
         "KA1503000012",
         "TA1305000029",
         "70870"
        ],
        [
         "B32D3199F1C2E75B",
         "classic_bike",
         "2021-02-02 17:49:41",
         "2021-02-02 17:54:06",
         "637",
         "TA1305000034",
         "58974"
        ],
        [
         "83E463F23575F4BF",
         "electric_bike",
         "2021-02-23 15:07:23",
         "2021-02-23 15:22:37",
         "13216",
         "TA1309000055",
         "39608"
        ],
        [
         "BDAA7E3494E8D545",
         "electric_bike",
         "2021-02-24 15:43:33",
         "2021-02-24 15:49:05",
         "18003",
         "KP1705001026",
         "36267"
        ],
        [
         "A772742351171257",
         "classic_bike",
         "2021-02-01 17:47:42",
         "2021-02-01 17:48:33",
         "KP1705001026",
         "KP1705001026",
         "50104"
        ],
        [
         "295476889D9B79F8",
         "classic_bike",
         "2021-02-11 18:33:53",
         "2021-02-11 18:35:09",
         "18003",
         "18003",
         "19618"
        ],
        [
         "362087194BA4CC9A",
         "classic_bike",
         "2021-02-27 15:13:39",
         "2021-02-27 15:36:36",
         "KP1705001026",
         "KP1705001026",
         "16732"
        ],
        [
         "21630F715038CCB0",
         "classic_bike",
         "2021-02-20 08:59:42",
         "2021-02-20 09:17:04",
         "KP1705001026",
         "KP1705001026",
         "57068"
        ],
        [
         "A977EB7FE7F5CD3A",
         "classic_bike",
         "2021-02-20 08:58:16",
         "2021-02-20 08:58:41",
         "KP1705001026",
         "KP1705001026",
         "32712"
        ],
        [
         "8B868B03D6753C2A",
         "classic_bike",
         "2021-02-20 16:45:11",
         "2021-02-20 16:59:47",
         "KP1705001026",
         "KP1705001026",
         "23227"
        ],
        [
         "BD331D658B9D2C31",
         "classic_bike",
         "2021-02-18 13:21:03",
         "2021-02-18 13:25:20",
         "525",
         "520",
         "73221"
        ],
        [
         "8DFEA9BAFE6BAA62",
         "classic_bike",
         "2021-02-26 17:40:05",
         "2021-02-26 17:42:49",
         "13253",
         "TA1309000050",
         "22163"
        ],
        [
         "27BE9F6E67AFD86C",
         "classic_bike",
         "2021-02-06 14:40:25",
         "2021-02-06 14:55:50",
         "525",
         "15578",
         "7566"
        ],
        [
         "9B790D47A0A0F7F1",
         "classic_bike",
         "2021-02-19 23:25:40",
         "2021-02-20 00:10:00",
         "KA1503000044",
         "KA1504000142",
         "71588"
        ],
        [
         "3C2DF72600B1DE6C",
         "classic_bike",
         "2021-02-18 23:20:10",
         "2021-02-19 00:01:39",
         "KA1503000044",
         "KA1504000142",
         "38661"
        ],
        [
         "48A8D07ED9C7065C",
         "classic_bike",
         "2021-02-20 23:35:29",
         "2021-02-21 00:17:18",
         "KA1503000044",
         "KA1504000142",
         "64751"
        ],
        [
         "BBFF2AAA0A3A1A26",
         "electric_bike",
         "2021-02-02 15:48:52",
         "2021-02-02 16:03:40",
         "KA1504000140",
         "17660",
         "10721"
        ],
        [
         "030723CBA8CF05E7",
         "classic_bike",
         "2021-02-23 07:44:12",
         "2021-02-23 07:48:57",
         "TA1305000032",
         "15542",
         "13281"
        ]
       ],
       "datasetInfos": [],
       "dbfsResultPath": null,
       "isJsonSchema": true,
       "metadata": {},
       "overflow": false,
       "plotOptions": {
        "customPlotOptions": {},
        "displayType": "table",
        "pivotAggregation": null,
        "pivotColumns": null,
        "xColumns": null,
        "yColumns": null
       },
       "removedWidgets": [],
       "schema": [
        {
         "metadata": "{}",
         "name": "trip_id",
         "type": "\"string\""
        },
        {
         "metadata": "{}",
         "name": "rideable_type",
         "type": "\"string\""
        },
        {
         "metadata": "{}",
         "name": "started_at",
         "type": "\"string\""
        },
        {
         "metadata": "{}",
         "name": "ended_at",
         "type": "\"string\""
        },
        {
         "metadata": "{}",
         "name": "start_station_id",
         "type": "\"string\""
        },
        {
         "metadata": "{}",
         "name": "end_station_id",
         "type": "\"string\""
        },
        {
         "metadata": "{}",
         "name": "rider_id",
         "type": "\"string\""
        }
       ],
       "type": "table"
      }
     },
     "output_type": "display_data"
    }
   ],
   "source": [
    "display(trip_delta.limit(nrows_display))"
   ]
  },
  {
   "cell_type": "code",
   "execution_count": 0,
   "metadata": {
    "application/vnd.databricks.v1+cell": {
     "cellMetadata": {
      "byteLimit": 2048000,
      "rowLimit": 10000
     },
     "inputWidgets": {},
     "nuid": "18f6ce09-b2e9-483a-8212-5ea9f34a221e",
     "showTitle": false,
     "title": ""
    }
   },
   "outputs": [],
   "source": [
    "trip_delta.write.format(\"delta\")            \\\n",
    "    .mode(\"overwrite\")                      \\\n",
    "    .option(\"overwriteSchema\", \"true\")      \\\n",
    "    .save(\"/delta/trips\")"
   ]
  },
  {
   "cell_type": "markdown",
   "metadata": {
    "application/vnd.databricks.v1+cell": {
     "cellMetadata": {},
     "inputWidgets": {},
     "nuid": "a6a2ea40-8953-4612-9fc4-9c83f589d1ff",
     "showTitle": false,
     "title": ""
    }
   },
   "source": [
    "## 3. Rider table"
   ]
  },
  {
   "cell_type": "code",
   "execution_count": 0,
   "metadata": {
    "application/vnd.databricks.v1+cell": {
     "cellMetadata": {
      "byteLimit": 2048000,
      "rowLimit": 10000
     },
     "inputWidgets": {},
     "nuid": "cc3ded16-b598-4838-997f-720d65de2c77",
     "showTitle": false,
     "title": ""
    }
   },
   "outputs": [],
   "source": [
    "rider_delta = spark.read.format(\"csv\")              \\\n",
    "    .option(\"inferSchema\", \"false\")                 \\\n",
    "    .option(\"header\", \"false\")                      \\\n",
    "    .option(\"sep\", \",\")                             \\\n",
    "    .load(\"dbfs:/FileStore/tables/riders.csv\")      \\\n",
    "    .toDF(                                          \\\n",
    "        \"rider_id\",                                 \\\n",
    "        \"first\",                                    \\\n",
    "        \"last\",                                     \\\n",
    "        \"address\",                                  \\\n",
    "        \"birthday\",                                 \\\n",
    "        \"account_start_date\",                       \\\n",
    "        \"account_end_date\",                         \\\n",
    "        \"is_member\"                                 \\\n",
    "    )"
   ]
  },
  {
   "cell_type": "code",
   "execution_count": 0,
   "metadata": {
    "application/vnd.databricks.v1+cell": {
     "cellMetadata": {
      "byteLimit": 2048000,
      "rowLimit": 10000
     },
     "inputWidgets": {},
     "nuid": "a7f70e2b-0b31-4d83-a917-b572701ff548",
     "showTitle": false,
     "title": ""
    }
   },
   "outputs": [
    {
     "output_type": "stream",
     "name": "stdout",
     "output_type": "stream",
     "text": [
      "root\n |-- rider_id: string (nullable = true)\n |-- first: string (nullable = true)\n |-- last: string (nullable = true)\n |-- address: string (nullable = true)\n |-- birthday: string (nullable = true)\n |-- account_start_date: string (nullable = true)\n |-- account_end_date: string (nullable = true)\n |-- is_member: string (nullable = true)\n\n"
     ]
    }
   ],
   "source": [
    "rider_delta.printSchema()"
   ]
  },
  {
   "cell_type": "code",
   "execution_count": 0,
   "metadata": {
    "application/vnd.databricks.v1+cell": {
     "cellMetadata": {
      "byteLimit": 2048000,
      "rowLimit": 10000
     },
     "inputWidgets": {},
     "nuid": "9eebce19-901a-4c5e-af5c-7512208e18df",
     "showTitle": false,
     "title": ""
    }
   },
   "outputs": [
    {
     "output_type": "display_data",
     "data": {
      "text/html": [
       "<style scoped>\n",
       "  .table-result-container {\n",
       "    max-height: 300px;\n",
       "    overflow: auto;\n",
       "  }\n",
       "  table, th, td {\n",
       "    border: 1px solid black;\n",
       "    border-collapse: collapse;\n",
       "  }\n",
       "  th, td {\n",
       "    padding: 5px;\n",
       "  }\n",
       "  th {\n",
       "    text-align: left;\n",
       "  }\n",
       "</style><div class='table-result-container'><table class='table-result'><thead style='background-color: white'><tr><th>rider_id</th><th>first</th><th>last</th><th>address</th><th>birthday</th><th>account_start_date</th><th>account_end_date</th><th>is_member</th></tr></thead><tbody><tr><td>1000</td><td>Diana</td><td>Clark</td><td>1200 Alyssa Squares</td><td>1989-02-13</td><td>2019-04-23</td><td>null</td><td>True</td></tr><tr><td>1001</td><td>Jennifer</td><td>Smith</td><td>397 Diana Ferry</td><td>1976-08-10</td><td>2019-11-01</td><td>2020-09-01</td><td>True</td></tr><tr><td>1002</td><td>Karen</td><td>Smith</td><td>644 Brittany Row Apt. 097</td><td>1998-08-10</td><td>2022-02-04</td><td>null</td><td>True</td></tr><tr><td>1003</td><td>Bryan</td><td>Roberts</td><td>996 Dickerson Turnpike</td><td>1999-03-29</td><td>2019-08-26</td><td>null</td><td>False</td></tr><tr><td>1004</td><td>Jesse</td><td>Middleton</td><td>7009 Nathan Expressway</td><td>1969-04-11</td><td>2019-09-14</td><td>null</td><td>True</td></tr><tr><td>1005</td><td>Christine</td><td>Rodriguez</td><td>224 Washington Mills Apt. 467</td><td>1974-08-27</td><td>2020-03-24</td><td>null</td><td>False</td></tr><tr><td>1006</td><td>Alicia</td><td>Taylor</td><td>1137 Angela Locks</td><td>2004-01-30</td><td>2020-11-27</td><td>2021-12-01</td><td>True</td></tr><tr><td>1007</td><td>Benjamin</td><td>Fernandez</td><td>979 Phillips Ways</td><td>1988-01-11</td><td>2016-12-11</td><td>null</td><td>False</td></tr><tr><td>1008</td><td>John</td><td>Crawford</td><td>7691 Evans Court</td><td>1987-02-21</td><td>2021-03-28</td><td>2021-07-01</td><td>True</td></tr><tr><td>1009</td><td>Victoria</td><td>Ritter</td><td>9922 Jim Crest Apt. 319</td><td>1981-02-07</td><td>2020-06-12</td><td>2021-11-01</td><td>True</td></tr><tr><td>1010</td><td>Tracy</td><td>Austin</td><td>92973 Mary Ville</td><td>1996-04-07</td><td>2019-12-27</td><td>null</td><td>True</td></tr><tr><td>1011</td><td>Jessica</td><td>Mcgee</td><td>950 Grimes Burg Apt. 679</td><td>1984-12-29</td><td>2017-05-20</td><td>null</td><td>True</td></tr><tr><td>1012</td><td>Heather</td><td>Fisher</td><td>65532 Davis Springs Apt. 363</td><td>1980-10-20</td><td>2021-10-16</td><td>null</td><td>True</td></tr><tr><td>1013</td><td>Timothy</td><td>Jones</td><td>7757 Johnston Roads</td><td>1985-07-10</td><td>2020-12-28</td><td>2021-11-01</td><td>True</td></tr><tr><td>1014</td><td>Jennifer</td><td>Martin</td><td>501 Arellano Land</td><td>1989-12-04</td><td>2017-11-24</td><td>null</td><td>True</td></tr><tr><td>1015</td><td>Christopher</td><td>Silva</td><td>3710 Rodriguez Glen Apt. 324</td><td>2001-07-25</td><td>2017-07-10</td><td>null</td><td>True</td></tr><tr><td>1016</td><td>Andrew</td><td>Jones</td><td>72226 Casey Square</td><td>1991-12-13</td><td>2022-02-02</td><td>null</td><td>True</td></tr><tr><td>1017</td><td>William</td><td>Lawson</td><td>40395 Terrell Parks</td><td>1981-04-17</td><td>2019-03-11</td><td>null</td><td>True</td></tr><tr><td>1018</td><td>Shelly</td><td>Briggs</td><td>3514 Leslie Vista</td><td>1986-09-02</td><td>2021-07-25</td><td>null</td><td>False</td></tr><tr><td>1019</td><td>Tina</td><td>Garcia</td><td>00348 Brandi Parks Suite 405</td><td>1997-05-03</td><td>2021-07-10</td><td>2022-01-01</td><td>False</td></tr></tbody></table></div>"
      ]
     },
     "metadata": {
      "application/vnd.databricks.v1+output": {
       "addedWidgets": {},
       "aggData": [],
       "aggError": "",
       "aggOverflow": false,
       "aggSchema": [],
       "aggSeriesLimitReached": false,
       "aggType": "",
       "arguments": {},
       "columnCustomDisplayInfos": {},
       "data": [
        [
         "1000",
         "Diana",
         "Clark",
         "1200 Alyssa Squares",
         "1989-02-13",
         "2019-04-23",
         null,
         "True"
        ],
        [
         "1001",
         "Jennifer",
         "Smith",
         "397 Diana Ferry",
         "1976-08-10",
         "2019-11-01",
         "2020-09-01",
         "True"
        ],
        [
         "1002",
         "Karen",
         "Smith",
         "644 Brittany Row Apt. 097",
         "1998-08-10",
         "2022-02-04",
         null,
         "True"
        ],
        [
         "1003",
         "Bryan",
         "Roberts",
         "996 Dickerson Turnpike",
         "1999-03-29",
         "2019-08-26",
         null,
         "False"
        ],
        [
         "1004",
         "Jesse",
         "Middleton",
         "7009 Nathan Expressway",
         "1969-04-11",
         "2019-09-14",
         null,
         "True"
        ],
        [
         "1005",
         "Christine",
         "Rodriguez",
         "224 Washington Mills Apt. 467",
         "1974-08-27",
         "2020-03-24",
         null,
         "False"
        ],
        [
         "1006",
         "Alicia",
         "Taylor",
         "1137 Angela Locks",
         "2004-01-30",
         "2020-11-27",
         "2021-12-01",
         "True"
        ],
        [
         "1007",
         "Benjamin",
         "Fernandez",
         "979 Phillips Ways",
         "1988-01-11",
         "2016-12-11",
         null,
         "False"
        ],
        [
         "1008",
         "John",
         "Crawford",
         "7691 Evans Court",
         "1987-02-21",
         "2021-03-28",
         "2021-07-01",
         "True"
        ],
        [
         "1009",
         "Victoria",
         "Ritter",
         "9922 Jim Crest Apt. 319",
         "1981-02-07",
         "2020-06-12",
         "2021-11-01",
         "True"
        ],
        [
         "1010",
         "Tracy",
         "Austin",
         "92973 Mary Ville",
         "1996-04-07",
         "2019-12-27",
         null,
         "True"
        ],
        [
         "1011",
         "Jessica",
         "Mcgee",
         "950 Grimes Burg Apt. 679",
         "1984-12-29",
         "2017-05-20",
         null,
         "True"
        ],
        [
         "1012",
         "Heather",
         "Fisher",
         "65532 Davis Springs Apt. 363",
         "1980-10-20",
         "2021-10-16",
         null,
         "True"
        ],
        [
         "1013",
         "Timothy",
         "Jones",
         "7757 Johnston Roads",
         "1985-07-10",
         "2020-12-28",
         "2021-11-01",
         "True"
        ],
        [
         "1014",
         "Jennifer",
         "Martin",
         "501 Arellano Land",
         "1989-12-04",
         "2017-11-24",
         null,
         "True"
        ],
        [
         "1015",
         "Christopher",
         "Silva",
         "3710 Rodriguez Glen Apt. 324",
         "2001-07-25",
         "2017-07-10",
         null,
         "True"
        ],
        [
         "1016",
         "Andrew",
         "Jones",
         "72226 Casey Square",
         "1991-12-13",
         "2022-02-02",
         null,
         "True"
        ],
        [
         "1017",
         "William",
         "Lawson",
         "40395 Terrell Parks",
         "1981-04-17",
         "2019-03-11",
         null,
         "True"
        ],
        [
         "1018",
         "Shelly",
         "Briggs",
         "3514 Leslie Vista",
         "1986-09-02",
         "2021-07-25",
         null,
         "False"
        ],
        [
         "1019",
         "Tina",
         "Garcia",
         "00348 Brandi Parks Suite 405",
         "1997-05-03",
         "2021-07-10",
         "2022-01-01",
         "False"
        ]
       ],
       "datasetInfos": [],
       "dbfsResultPath": null,
       "isJsonSchema": true,
       "metadata": {},
       "overflow": false,
       "plotOptions": {
        "customPlotOptions": {},
        "displayType": "table",
        "pivotAggregation": null,
        "pivotColumns": null,
        "xColumns": null,
        "yColumns": null
       },
       "removedWidgets": [],
       "schema": [
        {
         "metadata": "{}",
         "name": "rider_id",
         "type": "\"string\""
        },
        {
         "metadata": "{}",
         "name": "first",
         "type": "\"string\""
        },
        {
         "metadata": "{}",
         "name": "last",
         "type": "\"string\""
        },
        {
         "metadata": "{}",
         "name": "address",
         "type": "\"string\""
        },
        {
         "metadata": "{}",
         "name": "birthday",
         "type": "\"string\""
        },
        {
         "metadata": "{}",
         "name": "account_start_date",
         "type": "\"string\""
        },
        {
         "metadata": "{}",
         "name": "account_end_date",
         "type": "\"string\""
        },
        {
         "metadata": "{}",
         "name": "is_member",
         "type": "\"string\""
        }
       ],
       "type": "table"
      }
     },
     "output_type": "display_data"
    }
   ],
   "source": [
    "display(rider_delta.limit(nrows_display))"
   ]
  },
  {
   "cell_type": "code",
   "execution_count": 0,
   "metadata": {
    "application/vnd.databricks.v1+cell": {
     "cellMetadata": {
      "byteLimit": 2048000,
      "rowLimit": 10000
     },
     "inputWidgets": {},
     "nuid": "b8fbcfa6-8458-43c2-a31d-9b66cf41c235",
     "showTitle": false,
     "title": ""
    }
   },
   "outputs": [],
   "source": [
    "rider_delta.write.format(\"delta\")           \\\n",
    "    .mode(\"overwrite\")                      \\\n",
    "    .option(\"overwriteSchema\", \"true\")      \\\n",
    "    .save(\"/delta/riders\")"
   ]
  },
  {
   "cell_type": "markdown",
   "metadata": {
    "application/vnd.databricks.v1+cell": {
     "cellMetadata": {},
     "inputWidgets": {},
     "nuid": "9822483e-9a02-4006-8f7b-59d13f75cd9b",
     "showTitle": false,
     "title": ""
    }
   },
   "source": [
    "## 4. Station table"
   ]
  },
  {
   "cell_type": "code",
   "execution_count": 0,
   "metadata": {
    "application/vnd.databricks.v1+cell": {
     "cellMetadata": {
      "byteLimit": 2048000,
      "rowLimit": 10000
     },
     "inputWidgets": {},
     "nuid": "a2bf925e-7333-4ea5-b2b2-d052029dfb75",
     "showTitle": false,
     "title": ""
    }
   },
   "outputs": [],
   "source": [
    "station_delta = spark.read.format(\"csv\")            \\\n",
    "    .option(\"inferSchema\", \"false\")                 \\\n",
    "    .option(\"header\", \"false\")                      \\\n",
    "    .option(\"sep\", \",\")                             \\\n",
    "    .load(\"dbfs:/FileStore/tables/stations.csv\")    \\\n",
    "    .toDF(                                          \\\n",
    "        \"station_id\",                               \\\n",
    "        \"name\",                                     \\\n",
    "        \"latitude\",                                 \\\n",
    "        \"longitude\"                                 \\\n",
    "    )"
   ]
  },
  {
   "cell_type": "code",
   "execution_count": 0,
   "metadata": {
    "application/vnd.databricks.v1+cell": {
     "cellMetadata": {
      "byteLimit": 2048000,
      "rowLimit": 10000
     },
     "inputWidgets": {},
     "nuid": "f427b779-4646-4983-97cf-652b97158765",
     "showTitle": false,
     "title": ""
    }
   },
   "outputs": [
    {
     "output_type": "stream",
     "name": "stdout",
     "output_type": "stream",
     "text": [
      "root\n |-- station_id: string (nullable = true)\n |-- name: string (nullable = true)\n |-- latitude: string (nullable = true)\n |-- longitude: string (nullable = true)\n\n"
     ]
    }
   ],
   "source": [
    "station_delta.printSchema()"
   ]
  },
  {
   "cell_type": "code",
   "execution_count": 0,
   "metadata": {
    "application/vnd.databricks.v1+cell": {
     "cellMetadata": {
      "byteLimit": 2048000,
      "rowLimit": 10000
     },
     "inputWidgets": {},
     "nuid": "d3bb511b-04b5-44ec-a252-8961577c588d",
     "showTitle": false,
     "title": ""
    }
   },
   "outputs": [
    {
     "output_type": "display_data",
     "data": {
      "text/html": [
       "<style scoped>\n",
       "  .table-result-container {\n",
       "    max-height: 300px;\n",
       "    overflow: auto;\n",
       "  }\n",
       "  table, th, td {\n",
       "    border: 1px solid black;\n",
       "    border-collapse: collapse;\n",
       "  }\n",
       "  th, td {\n",
       "    padding: 5px;\n",
       "  }\n",
       "  th {\n",
       "    text-align: left;\n",
       "  }\n",
       "</style><div class='table-result-container'><table class='table-result'><thead style='background-color: white'><tr><th>station_id</th><th>name</th><th>latitude</th><th>longitude</th></tr></thead><tbody><tr><td>525</td><td>Glenwood Ave & Touhy Ave</td><td>42.012701</td><td>-87.66605799999999</td></tr><tr><td>KA1503000012</td><td>Clark St & Lake St</td><td>41.88579466666667</td><td>-87.63110066666668</td></tr><tr><td>637</td><td>Wood St & Chicago Ave</td><td>41.895634</td><td>-87.672069</td></tr><tr><td>13216</td><td>State St & 33rd St</td><td>41.8347335</td><td>-87.6258275</td></tr><tr><td>18003</td><td>Fairbanks St & Superior St</td><td>41.89580766666667</td><td>-87.62025316666669</td></tr><tr><td>KP1705001026</td><td>LaSalle Dr & Huron St</td><td>41.894877</td><td>-87.632326</td></tr><tr><td>13253</td><td>Lincoln Ave & Waveland Ave</td><td>41.948797</td><td>-87.675278</td></tr><tr><td>KA1503000044</td><td>Rush St & Hubbard St</td><td>41.890173</td><td>-87.62618499999999</td></tr><tr><td>KA1504000140</td><td>Winchester Ave & Elston Ave</td><td>41.92403733333333</td><td>-87.67641483333334</td></tr><tr><td>TA1305000032</td><td>Clinton St & Madison St</td><td>41.882242</td><td>-87.64106600000001</td></tr><tr><td>TA1306000012</td><td>Wells St & Huron St</td><td>41.89475366666667</td><td>-87.63440200000001</td></tr><tr><td>13133</td><td>Damen Ave & Cortland St</td><td>41.915983000000004</td><td>-87.677335</td></tr><tr><td>SL-005</td><td>Indiana Ave & Roosevelt Rd</td><td>41.867888</td><td>-87.623041</td></tr><tr><td>13235</td><td>Southport Ave & Waveland Ave</td><td>41.94815</td><td>-87.66394</td></tr><tr><td>TA1307000139</td><td>MLK Jr Dr & 29th St</td><td>41.842052</td><td>-87.617</td></tr><tr><td>TA1305000009</td><td>Clark St & Ida B Wells Dr</td><td>41.8759326655</td><td>-87.63058453549999</td></tr><tr><td>13276</td><td>Stockton Dr & Wrightwood Ave</td><td>41.9313455</td><td>-87.63869133333333</td></tr><tr><td>TA1307000107</td><td>Sheridan Rd & Montrose Ave</td><td>41.96167</td><td>-87.65464</td></tr><tr><td>13193</td><td>Larrabee St & Webster Ave</td><td>41.921822</td><td>-87.64414000000001</td></tr><tr><td>KA1503000072</td><td>Wacker Dr & Washington St</td><td>41.883132</td><td>-87.637321</td></tr></tbody></table></div>"
      ]
     },
     "metadata": {
      "application/vnd.databricks.v1+output": {
       "addedWidgets": {},
       "aggData": [],
       "aggError": "",
       "aggOverflow": false,
       "aggSchema": [],
       "aggSeriesLimitReached": false,
       "aggType": "",
       "arguments": {},
       "columnCustomDisplayInfos": {},
       "data": [
        [
         "525",
         "Glenwood Ave & Touhy Ave",
         "42.012701",
         "-87.66605799999999"
        ],
        [
         "KA1503000012",
         "Clark St & Lake St",
         "41.88579466666667",
         "-87.63110066666668"
        ],
        [
         "637",
         "Wood St & Chicago Ave",
         "41.895634",
         "-87.672069"
        ],
        [
         "13216",
         "State St & 33rd St",
         "41.8347335",
         "-87.6258275"
        ],
        [
         "18003",
         "Fairbanks St & Superior St",
         "41.89580766666667",
         "-87.62025316666669"
        ],
        [
         "KP1705001026",
         "LaSalle Dr & Huron St",
         "41.894877",
         "-87.632326"
        ],
        [
         "13253",
         "Lincoln Ave & Waveland Ave",
         "41.948797",
         "-87.675278"
        ],
        [
         "KA1503000044",
         "Rush St & Hubbard St",
         "41.890173",
         "-87.62618499999999"
        ],
        [
         "KA1504000140",
         "Winchester Ave & Elston Ave",
         "41.92403733333333",
         "-87.67641483333334"
        ],
        [
         "TA1305000032",
         "Clinton St & Madison St",
         "41.882242",
         "-87.64106600000001"
        ],
        [
         "TA1306000012",
         "Wells St & Huron St",
         "41.89475366666667",
         "-87.63440200000001"
        ],
        [
         "13133",
         "Damen Ave & Cortland St",
         "41.915983000000004",
         "-87.677335"
        ],
        [
         "SL-005",
         "Indiana Ave & Roosevelt Rd",
         "41.867888",
         "-87.623041"
        ],
        [
         "13235",
         "Southport Ave & Waveland Ave",
         "41.94815",
         "-87.66394"
        ],
        [
         "TA1307000139",
         "MLK Jr Dr & 29th St",
         "41.842052",
         "-87.617"
        ],
        [
         "TA1305000009",
         "Clark St & Ida B Wells Dr",
         "41.8759326655",
         "-87.63058453549999"
        ],
        [
         "13276",
         "Stockton Dr & Wrightwood Ave",
         "41.9313455",
         "-87.63869133333333"
        ],
        [
         "TA1307000107",
         "Sheridan Rd & Montrose Ave",
         "41.96167",
         "-87.65464"
        ],
        [
         "13193",
         "Larrabee St & Webster Ave",
         "41.921822",
         "-87.64414000000001"
        ],
        [
         "KA1503000072",
         "Wacker Dr & Washington St",
         "41.883132",
         "-87.637321"
        ]
       ],
       "datasetInfos": [],
       "dbfsResultPath": null,
       "isJsonSchema": true,
       "metadata": {},
       "overflow": false,
       "plotOptions": {
        "customPlotOptions": {},
        "displayType": "table",
        "pivotAggregation": null,
        "pivotColumns": null,
        "xColumns": null,
        "yColumns": null
       },
       "removedWidgets": [],
       "schema": [
        {
         "metadata": "{}",
         "name": "station_id",
         "type": "\"string\""
        },
        {
         "metadata": "{}",
         "name": "name",
         "type": "\"string\""
        },
        {
         "metadata": "{}",
         "name": "latitude",
         "type": "\"string\""
        },
        {
         "metadata": "{}",
         "name": "longitude",
         "type": "\"string\""
        }
       ],
       "type": "table"
      }
     },
     "output_type": "display_data"
    }
   ],
   "source": [
    "display(station_delta.limit(nrows_display))"
   ]
  },
  {
   "cell_type": "code",
   "execution_count": 0,
   "metadata": {
    "application/vnd.databricks.v1+cell": {
     "cellMetadata": {
      "byteLimit": 2048000,
      "rowLimit": 10000
     },
     "inputWidgets": {},
     "nuid": "224a2d9d-99e5-42d0-8d17-f7698a788bd6",
     "showTitle": false,
     "title": ""
    }
   },
   "outputs": [],
   "source": [
    "station_delta.write.format(\"delta\")         \\\n",
    "    .mode(\"overwrite\")                      \\\n",
    "    .option(\"overwriteSchema\", \"true\")      \\\n",
    "    .save(\"/delta/stations\")"
   ]
  },
  {
   "cell_type": "markdown",
   "metadata": {
    "application/vnd.databricks.v1+cell": {
     "cellMetadata": {},
     "inputWidgets": {},
     "nuid": "8dfa5910-8378-490a-839b-776419830434",
     "showTitle": false,
     "title": ""
    }
   },
   "source": [
    "## 5. Date table"
   ]
  },
  {
   "cell_type": "code",
   "execution_count": 0,
   "metadata": {
    "application/vnd.databricks.v1+cell": {
     "cellMetadata": {
      "byteLimit": 2048000,
      "rowLimit": 10000
     },
     "inputWidgets": {},
     "nuid": "4cb94ca2-894f-4b91-9a6e-a0ea8838cf1c",
     "showTitle": false,
     "title": ""
    }
   },
   "outputs": [],
   "source": [
    "date_delta = spark.read.format(\"csv\")               \\\n",
    "    .option(\"inferSchema\", \"false\")                 \\\n",
    "    .option(\"header\", \"false\")                      \\\n",
    "    .option(\"sep\", \",\")                             \\\n",
    "    .load(\"dbfs:/FileStore/tables/dates.csv\")       \\\n",
    "    .toDF(                                          \\\n",
    "        \"date_id\",                                  \\\n",
    "        \"day\",                                      \\\n",
    "        \"month\",                                    \\\n",
    "        \"quarter\",                                  \\\n",
    "        \"year\",                                     \\\n",
    "        \"day_of_week\",                              \\\n",
    "        \"day_of_year\"                               \\\n",
    "    )"
   ]
  },
  {
   "cell_type": "code",
   "execution_count": 0,
   "metadata": {
    "application/vnd.databricks.v1+cell": {
     "cellMetadata": {
      "byteLimit": 2048000,
      "rowLimit": 10000
     },
     "inputWidgets": {},
     "nuid": "2fc2333b-3442-423a-8a11-6f658621f386",
     "showTitle": false,
     "title": ""
    }
   },
   "outputs": [
    {
     "output_type": "stream",
     "name": "stdout",
     "output_type": "stream",
     "text": [
      "root\n |-- date_id: string (nullable = true)\n |-- day: string (nullable = true)\n |-- month: string (nullable = true)\n |-- quarter: string (nullable = true)\n |-- year: string (nullable = true)\n |-- day_of_week: string (nullable = true)\n |-- day_of_year: string (nullable = true)\n\n"
     ]
    }
   ],
   "source": [
    "date_delta.printSchema()"
   ]
  },
  {
   "cell_type": "code",
   "execution_count": 0,
   "metadata": {
    "application/vnd.databricks.v1+cell": {
     "cellMetadata": {
      "byteLimit": 2048000,
      "rowLimit": 10000
     },
     "inputWidgets": {},
     "nuid": "37f14268-ed5a-4937-a491-1e1a38c11e13",
     "showTitle": false,
     "title": ""
    }
   },
   "outputs": [
    {
     "output_type": "display_data",
     "data": {
      "text/html": [
       "<style scoped>\n",
       "  .table-result-container {\n",
       "    max-height: 300px;\n",
       "    overflow: auto;\n",
       "  }\n",
       "  table, th, td {\n",
       "    border: 1px solid black;\n",
       "    border-collapse: collapse;\n",
       "  }\n",
       "  th, td {\n",
       "    padding: 5px;\n",
       "  }\n",
       "  th {\n",
       "    text-align: left;\n",
       "  }\n",
       "</style><div class='table-result-container'><table class='table-result'><thead style='background-color: white'><tr><th>date_id</th><th>day</th><th>month</th><th>quarter</th><th>year</th><th>day_of_week</th><th>day_of_year</th></tr></thead><tbody><tr><td>2013-01-01</td><td>1</td><td>1</td><td>1</td><td>2013</td><td>3</td><td>1</td></tr><tr><td>2013-01-02</td><td>2</td><td>1</td><td>1</td><td>2013</td><td>4</td><td>2</td></tr><tr><td>2013-01-03</td><td>3</td><td>1</td><td>1</td><td>2013</td><td>5</td><td>3</td></tr><tr><td>2013-01-04</td><td>4</td><td>1</td><td>1</td><td>2013</td><td>6</td><td>4</td></tr><tr><td>2013-01-05</td><td>5</td><td>1</td><td>1</td><td>2013</td><td>7</td><td>5</td></tr><tr><td>2013-01-06</td><td>6</td><td>1</td><td>1</td><td>2013</td><td>1</td><td>6</td></tr><tr><td>2013-01-07</td><td>7</td><td>1</td><td>1</td><td>2013</td><td>2</td><td>7</td></tr><tr><td>2013-01-08</td><td>8</td><td>1</td><td>1</td><td>2013</td><td>3</td><td>8</td></tr><tr><td>2013-01-09</td><td>9</td><td>1</td><td>1</td><td>2013</td><td>4</td><td>9</td></tr><tr><td>2013-01-10</td><td>10</td><td>1</td><td>1</td><td>2013</td><td>5</td><td>10</td></tr><tr><td>2013-01-11</td><td>11</td><td>1</td><td>1</td><td>2013</td><td>6</td><td>11</td></tr><tr><td>2013-01-12</td><td>12</td><td>1</td><td>1</td><td>2013</td><td>7</td><td>12</td></tr><tr><td>2013-01-13</td><td>13</td><td>1</td><td>1</td><td>2013</td><td>1</td><td>13</td></tr><tr><td>2013-01-14</td><td>14</td><td>1</td><td>1</td><td>2013</td><td>2</td><td>14</td></tr><tr><td>2013-01-15</td><td>15</td><td>1</td><td>1</td><td>2013</td><td>3</td><td>15</td></tr><tr><td>2013-01-16</td><td>16</td><td>1</td><td>1</td><td>2013</td><td>4</td><td>16</td></tr><tr><td>2013-01-17</td><td>17</td><td>1</td><td>1</td><td>2013</td><td>5</td><td>17</td></tr><tr><td>2013-01-18</td><td>18</td><td>1</td><td>1</td><td>2013</td><td>6</td><td>18</td></tr><tr><td>2013-01-19</td><td>19</td><td>1</td><td>1</td><td>2013</td><td>7</td><td>19</td></tr><tr><td>2013-01-20</td><td>20</td><td>1</td><td>1</td><td>2013</td><td>1</td><td>20</td></tr></tbody></table></div>"
      ]
     },
     "metadata": {
      "application/vnd.databricks.v1+output": {
       "addedWidgets": {},
       "aggData": [],
       "aggError": "",
       "aggOverflow": false,
       "aggSchema": [],
       "aggSeriesLimitReached": false,
       "aggType": "",
       "arguments": {},
       "columnCustomDisplayInfos": {},
       "data": [
        [
         "2013-01-01",
         "1",
         "1",
         "1",
         "2013",
         "3",
         "1"
        ],
        [
         "2013-01-02",
         "2",
         "1",
         "1",
         "2013",
         "4",
         "2"
        ],
        [
         "2013-01-03",
         "3",
         "1",
         "1",
         "2013",
         "5",
         "3"
        ],
        [
         "2013-01-04",
         "4",
         "1",
         "1",
         "2013",
         "6",
         "4"
        ],
        [
         "2013-01-05",
         "5",
         "1",
         "1",
         "2013",
         "7",
         "5"
        ],
        [
         "2013-01-06",
         "6",
         "1",
         "1",
         "2013",
         "1",
         "6"
        ],
        [
         "2013-01-07",
         "7",
         "1",
         "1",
         "2013",
         "2",
         "7"
        ],
        [
         "2013-01-08",
         "8",
         "1",
         "1",
         "2013",
         "3",
         "8"
        ],
        [
         "2013-01-09",
         "9",
         "1",
         "1",
         "2013",
         "4",
         "9"
        ],
        [
         "2013-01-10",
         "10",
         "1",
         "1",
         "2013",
         "5",
         "10"
        ],
        [
         "2013-01-11",
         "11",
         "1",
         "1",
         "2013",
         "6",
         "11"
        ],
        [
         "2013-01-12",
         "12",
         "1",
         "1",
         "2013",
         "7",
         "12"
        ],
        [
         "2013-01-13",
         "13",
         "1",
         "1",
         "2013",
         "1",
         "13"
        ],
        [
         "2013-01-14",
         "14",
         "1",
         "1",
         "2013",
         "2",
         "14"
        ],
        [
         "2013-01-15",
         "15",
         "1",
         "1",
         "2013",
         "3",
         "15"
        ],
        [
         "2013-01-16",
         "16",
         "1",
         "1",
         "2013",
         "4",
         "16"
        ],
        [
         "2013-01-17",
         "17",
         "1",
         "1",
         "2013",
         "5",
         "17"
        ],
        [
         "2013-01-18",
         "18",
         "1",
         "1",
         "2013",
         "6",
         "18"
        ],
        [
         "2013-01-19",
         "19",
         "1",
         "1",
         "2013",
         "7",
         "19"
        ],
        [
         "2013-01-20",
         "20",
         "1",
         "1",
         "2013",
         "1",
         "20"
        ]
       ],
       "datasetInfos": [],
       "dbfsResultPath": null,
       "isJsonSchema": true,
       "metadata": {},
       "overflow": false,
       "plotOptions": {
        "customPlotOptions": {},
        "displayType": "table",
        "pivotAggregation": null,
        "pivotColumns": null,
        "xColumns": null,
        "yColumns": null
       },
       "removedWidgets": [],
       "schema": [
        {
         "metadata": "{}",
         "name": "date_id",
         "type": "\"string\""
        },
        {
         "metadata": "{}",
         "name": "day",
         "type": "\"string\""
        },
        {
         "metadata": "{}",
         "name": "month",
         "type": "\"string\""
        },
        {
         "metadata": "{}",
         "name": "quarter",
         "type": "\"string\""
        },
        {
         "metadata": "{}",
         "name": "year",
         "type": "\"string\""
        },
        {
         "metadata": "{}",
         "name": "day_of_week",
         "type": "\"string\""
        },
        {
         "metadata": "{}",
         "name": "day_of_year",
         "type": "\"string\""
        }
       ],
       "type": "table"
      }
     },
     "output_type": "display_data"
    }
   ],
   "source": [
    "display(date_delta.limit(nrows_display))"
   ]
  },
  {
   "cell_type": "code",
   "execution_count": 0,
   "metadata": {
    "application/vnd.databricks.v1+cell": {
     "cellMetadata": {
      "byteLimit": 2048000,
      "rowLimit": 10000
     },
     "inputWidgets": {},
     "nuid": "825c6779-c437-4363-ac96-ec512b0256fd",
     "showTitle": false,
     "title": ""
    }
   },
   "outputs": [],
   "source": [
    "date_delta.write.format(\"delta\")            \\\n",
    "    .mode(\"overwrite\")                      \\\n",
    "    .option(\"overwriteSchema\", \"true\")      \\\n",
    "    .save(\"/delta/dates\")"
   ]
  }
 ],
 "metadata": {
  "application/vnd.databricks.v1+notebook": {
   "dashboards": [],
   "language": "python",
   "notebookMetadata": {
    "pythonIndentUnit": 4
   },
   "notebookName": "EXTRACT",
   "widgets": {}
  }
 },
 "nbformat": 4,
 "nbformat_minor": 0
}
