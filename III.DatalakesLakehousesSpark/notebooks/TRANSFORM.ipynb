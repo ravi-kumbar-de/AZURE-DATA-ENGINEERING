{
 "cells": [
  {
   "cell_type": "markdown",
   "metadata": {
    "application/vnd.databricks.v1+cell": {
     "cellMetadata": {
      "byteLimit": 2048000,
      "rowLimit": 10000
     },
     "inputWidgets": {},
     "nuid": "5c888b09-ade6-4930-aa3f-63dba2984b1b",
     "showTitle": false,
     "title": ""
    }
   },
   "source": [
    "# Transform the data into the star schema for a Gold data store"
   ]
  },
  {
   "cell_type": "code",
   "execution_count": 0,
   "metadata": {
    "application/vnd.databricks.v1+cell": {
     "cellMetadata": {
      "byteLimit": 2048000,
      "rowLimit": 10000
     },
     "inputWidgets": {},
     "nuid": "e8605a60-389f-4556-9b48-418b24d98eff",
     "showTitle": false,
     "title": ""
    }
   },
   "outputs": [],
   "source": [
    "import pyspark.sql.functions as f\n",
    "from pyspark.sql.functions import *\n",
    "\n",
    "from pyspark.sql.types import *\n",
    "\n",
    "nrows_display = 10"
   ]
  },
  {
   "cell_type": "markdown",
   "metadata": {
    "application/vnd.databricks.v1+cell": {
     "cellMetadata": {
      "byteLimit": 2048000,
      "rowLimit": 10000
     },
     "inputWidgets": {},
     "nuid": "1c7ee4c3-f3e7-4000-a3ed-809dda33ed79",
     "showTitle": false,
     "title": ""
    }
   },
   "source": [
    "## 1. Fact table - Payment"
   ]
  },
  {
   "cell_type": "markdown",
   "metadata": {
    "application/vnd.databricks.v1+cell": {
     "cellMetadata": {
      "byteLimit": 2048000,
      "rowLimit": 10000
     },
     "inputWidgets": {},
     "nuid": "8d43ac34-78c2-496c-baad-8806882e130e",
     "showTitle": false,
     "title": ""
    }
   },
   "source": [
    "### Fetch data from corresponding staging table"
   ]
  },
  {
   "cell_type": "code",
   "execution_count": 0,
   "metadata": {
    "application/vnd.databricks.v1+cell": {
     "cellMetadata": {
      "byteLimit": 2048000,
      "rowLimit": 10000
     },
     "inputWidgets": {},
     "nuid": "d10ae782-1723-4a92-88b2-bf4ac34cc015",
     "showTitle": false,
     "title": ""
    }
   },
   "outputs": [
    {
     "output_type": "display_data",
     "data": {
      "text/html": [
       "<style scoped>\n",
       "  .table-result-container {\n",
       "    max-height: 300px;\n",
       "    overflow: auto;\n",
       "  }\n",
       "  table, th, td {\n",
       "    border: 1px solid black;\n",
       "    border-collapse: collapse;\n",
       "  }\n",
       "  th, td {\n",
       "    padding: 5px;\n",
       "  }\n",
       "  th {\n",
       "    text-align: left;\n",
       "  }\n",
       "</style><div class='table-result-container'><table class='table-result'><thead style='background-color: white'><tr><th>payment_id</th><th>date</th><th>amount</th><th>rider</th></tr></thead><tbody><tr><td>1064462</td><td>2020-06-01</td><td>9.0</td><td>42106</td></tr><tr><td>1064463</td><td>2020-07-01</td><td>9.0</td><td>42106</td></tr><tr><td>1064464</td><td>2020-08-01</td><td>9.0</td><td>42106</td></tr><tr><td>1064465</td><td>2020-09-01</td><td>9.0</td><td>42106</td></tr><tr><td>1064466</td><td>2020-10-01</td><td>9.0</td><td>42106</td></tr><tr><td>1064467</td><td>2020-11-01</td><td>9.0</td><td>42106</td></tr><tr><td>1064468</td><td>2020-12-01</td><td>9.0</td><td>42106</td></tr><tr><td>1064469</td><td>2021-01-01</td><td>9.0</td><td>42106</td></tr><tr><td>1064470</td><td>2021-02-01</td><td>9.0</td><td>42106</td></tr><tr><td>1064471</td><td>2021-03-01</td><td>9.0</td><td>42106</td></tr></tbody></table></div>"
      ]
     },
     "metadata": {
      "application/vnd.databricks.v1+output": {
       "addedWidgets": {},
       "aggData": [],
       "aggError": "",
       "aggOverflow": false,
       "aggSchema": [],
       "aggSeriesLimitReached": false,
       "aggType": "",
       "arguments": {},
       "columnCustomDisplayInfos": {},
       "data": [
        [
         "1064462",
         "2020-06-01",
         "9.0",
         "42106"
        ],
        [
         "1064463",
         "2020-07-01",
         "9.0",
         "42106"
        ],
        [
         "1064464",
         "2020-08-01",
         "9.0",
         "42106"
        ],
        [
         "1064465",
         "2020-09-01",
         "9.0",
         "42106"
        ],
        [
         "1064466",
         "2020-10-01",
         "9.0",
         "42106"
        ],
        [
         "1064467",
         "2020-11-01",
         "9.0",
         "42106"
        ],
        [
         "1064468",
         "2020-12-01",
         "9.0",
         "42106"
        ],
        [
         "1064469",
         "2021-01-01",
         "9.0",
         "42106"
        ],
        [
         "1064470",
         "2021-02-01",
         "9.0",
         "42106"
        ],
        [
         "1064471",
         "2021-03-01",
         "9.0",
         "42106"
        ]
       ],
       "datasetInfos": [],
       "dbfsResultPath": null,
       "isJsonSchema": true,
       "metadata": {},
       "overflow": false,
       "plotOptions": {
        "customPlotOptions": {},
        "displayType": "table",
        "pivotAggregation": null,
        "pivotColumns": null,
        "xColumns": null,
        "yColumns": null
       },
       "removedWidgets": [],
       "schema": [
        {
         "metadata": "{}",
         "name": "payment_id",
         "type": "\"string\""
        },
        {
         "metadata": "{}",
         "name": "date",
         "type": "\"string\""
        },
        {
         "metadata": "{}",
         "name": "amount",
         "type": "\"string\""
        },
        {
         "metadata": "{}",
         "name": "rider",
         "type": "\"string\""
        }
       ],
       "type": "table"
      }
     },
     "output_type": "display_data"
    }
   ],
   "source": [
    "payments = spark.table(\"stagingpayment\")\n",
    "display(payments.limit(nrows_display))"
   ]
  },
  {
   "cell_type": "markdown",
   "metadata": {
    "application/vnd.databricks.v1+cell": {
     "cellMetadata": {
      "byteLimit": 2048000,
      "rowLimit": 10000
     },
     "inputWidgets": {},
     "nuid": "23f805b9-d593-48bd-b570-9f9bd2fb7bb2",
     "showTitle": false,
     "title": ""
    }
   },
   "source": [
    "### Data wrangling and then save as Gold fact/dim table"
   ]
  },
  {
   "cell_type": "markdown",
   "metadata": {
    "application/vnd.databricks.v1+cell": {
     "cellMetadata": {
      "byteLimit": 2048000,
      "rowLimit": 10000
     },
     "inputWidgets": {},
     "nuid": "e0a56540-c0a7-4f12-93ba-27f5641c10c8",
     "showTitle": false,
     "title": ""
    }
   },
   "source": [
    "Since the table schema here is exactly the same with our star schema design, we just need to drop duplicates in surrogate column and then save the Gold fact table."
   ]
  },
  {
   "cell_type": "code",
   "execution_count": 0,
   "metadata": {
    "application/vnd.databricks.v1+cell": {
     "cellMetadata": {
      "byteLimit": 2048000,
      "rowLimit": 10000
     },
     "inputWidgets": {},
     "nuid": "06f1c286-fd28-4276-aec4-47444d81751d",
     "showTitle": false,
     "title": ""
    }
   },
   "outputs": [
    {
     "output_type": "display_data",
     "data": {
      "text/html": [
       "<style scoped>\n",
       "  .table-result-container {\n",
       "    max-height: 300px;\n",
       "    overflow: auto;\n",
       "  }\n",
       "  table, th, td {\n",
       "    border: 1px solid black;\n",
       "    border-collapse: collapse;\n",
       "  }\n",
       "  th, td {\n",
       "    padding: 5px;\n",
       "  }\n",
       "  th {\n",
       "    text-align: left;\n",
       "  }\n",
       "</style><div class='table-result-container'><table class='table-result'><thead style='background-color: white'><tr><th>payment_id</th><th>date</th><th>amount</th><th>rider</th></tr></thead><tbody><tr><td>5</td><td>2019-09-01</td><td>9.0</td><td>1000</td></tr><tr><td>273</td><td>2019-06-01</td><td>9.0</td><td>1011</td></tr><tr><td>401</td><td>2020-01-01</td><td>9.0</td><td>1015</td></tr><tr><td>421</td><td>2021-09-01</td><td>9.0</td><td>1015</td></tr><tr><td>1152</td><td>2020-10-01</td><td>9.0</td><td>1042</td></tr><tr><td>1505</td><td>2016-03-01</td><td>9.0</td><td>1054</td></tr><tr><td>1592</td><td>2019-04-01</td><td>12.82</td><td>1056</td></tr><tr><td>1861</td><td>2020-12-01</td><td>9.0</td><td>1070</td></tr><tr><td>1981</td><td>2021-03-01</td><td>8.93</td><td>1072</td></tr><tr><td>2048</td><td>2020-07-01</td><td>9.0</td><td>1078</td></tr></tbody></table></div>"
      ]
     },
     "metadata": {
      "application/vnd.databricks.v1+output": {
       "addedWidgets": {},
       "aggData": [],
       "aggError": "",
       "aggOverflow": false,
       "aggSchema": [],
       "aggSeriesLimitReached": false,
       "aggType": "",
       "arguments": {},
       "columnCustomDisplayInfos": {},
       "data": [
        [
         "5",
         "2019-09-01",
         "9.0",
         "1000"
        ],
        [
         "273",
         "2019-06-01",
         "9.0",
         "1011"
        ],
        [
         "401",
         "2020-01-01",
         "9.0",
         "1015"
        ],
        [
         "421",
         "2021-09-01",
         "9.0",
         "1015"
        ],
        [
         "1152",
         "2020-10-01",
         "9.0",
         "1042"
        ],
        [
         "1505",
         "2016-03-01",
         "9.0",
         "1054"
        ],
        [
         "1592",
         "2019-04-01",
         "12.82",
         "1056"
        ],
        [
         "1861",
         "2020-12-01",
         "9.0",
         "1070"
        ],
        [
         "1981",
         "2021-03-01",
         "8.93",
         "1072"
        ],
        [
         "2048",
         "2020-07-01",
         "9.0",
         "1078"
        ]
       ],
       "datasetInfos": [],
       "dbfsResultPath": null,
       "isJsonSchema": true,
       "metadata": {},
       "overflow": false,
       "plotOptions": {
        "customPlotOptions": {},
        "displayType": "table",
        "pivotAggregation": null,
        "pivotColumns": null,
        "xColumns": null,
        "yColumns": null
       },
       "removedWidgets": [],
       "schema": [
        {
         "metadata": "{}",
         "name": "payment_id",
         "type": "\"string\""
        },
        {
         "metadata": "{}",
         "name": "date",
         "type": "\"string\""
        },
        {
         "metadata": "{}",
         "name": "amount",
         "type": "\"string\""
        },
        {
         "metadata": "{}",
         "name": "rider",
         "type": "\"string\""
        }
       ],
       "type": "table"
      }
     },
     "output_type": "display_data"
    }
   ],
   "source": [
    "# Drop if exist\n",
    "spark.sql(\"DROP TABLE IF EXISTS default.fact_payment\")\n",
    "\n",
    "# Data wrangling (basically dropping duplicates in surrogate column), and then save as Gold table in `default` directory\n",
    "payments.dropDuplicates([\"payment_id\"])     \\\n",
    "    .write.format(\"delta\")                  \\\n",
    "    .mode(\"overwrite\")                      \\\n",
    "    .saveAsTable(\"default.fact_payment\")\n",
    "\n",
    "# Final check\n",
    "review_fact_payment = spark.table(\"fact_payment\")\n",
    "display(review_fact_payment.limit(nrows_display))"
   ]
  },
  {
   "cell_type": "markdown",
   "metadata": {
    "application/vnd.databricks.v1+cell": {
     "cellMetadata": {
      "byteLimit": 2048000,
      "rowLimit": 10000
     },
     "inputWidgets": {},
     "nuid": "b6e12d7f-4cab-4902-b38e-38597aee46fd",
     "showTitle": false,
     "title": ""
    }
   },
   "source": [
    "Next, just do the same for the rest of 4 tables, be sure to add/edit additional columns to match star schema design."
   ]
  },
  {
   "cell_type": "markdown",
   "metadata": {
    "application/vnd.databricks.v1+cell": {
     "cellMetadata": {
      "byteLimit": 2048000,
      "rowLimit": 10000
     },
     "inputWidgets": {},
     "nuid": "b1472a72-1b12-47f3-a675-767287420e40",
     "showTitle": false,
     "title": ""
    }
   },
   "source": [
    "## 2. Dimension table - Rider"
   ]
  },
  {
   "cell_type": "code",
   "execution_count": 0,
   "metadata": {
    "application/vnd.databricks.v1+cell": {
     "cellMetadata": {
      "byteLimit": 2048000,
      "rowLimit": 10000
     },
     "inputWidgets": {},
     "nuid": "077edec7-d962-4f37-b673-3239badbde4c",
     "showTitle": false,
     "title": ""
    }
   },
   "outputs": [
    {
     "output_type": "display_data",
     "data": {
      "text/html": [
       "<style scoped>\n",
       "  .table-result-container {\n",
       "    max-height: 300px;\n",
       "    overflow: auto;\n",
       "  }\n",
       "  table, th, td {\n",
       "    border: 1px solid black;\n",
       "    border-collapse: collapse;\n",
       "  }\n",
       "  th, td {\n",
       "    padding: 5px;\n",
       "  }\n",
       "  th {\n",
       "    text-align: left;\n",
       "  }\n",
       "</style><div class='table-result-container'><table class='table-result'><thead style='background-color: white'><tr><th>rider_id</th><th>first</th><th>last</th><th>address</th><th>birthday</th><th>account_start_date</th><th>account_end_date</th><th>is_member</th></tr></thead><tbody><tr><td>57257</td><td>Mark</td><td>Mcfarland</td><td>9928 Hunter Ranch</td><td>1982-02-01</td><td>2020-12-05</td><td>null</td><td>False</td></tr><tr><td>57258</td><td>Mark</td><td>Davis</td><td>20036 Barrett Summit Apt. 714</td><td>1963-07-28</td><td>2017-07-12</td><td>null</td><td>True</td></tr><tr><td>57259</td><td>Bryan</td><td>Manning</td><td>089 Sarah Square</td><td>1984-11-05</td><td>2018-08-10</td><td>null</td><td>True</td></tr><tr><td>57260</td><td>Michele</td><td>Rowe</td><td>3157 Nicole Ferry Apt. 826</td><td>1997-09-21</td><td>2016-06-03</td><td>null</td><td>True</td></tr><tr><td>57261</td><td>John</td><td>Mckenzie</td><td>312 Jessica Wells</td><td>2002-10-13</td><td>2016-02-01</td><td>2018-07-01</td><td>True</td></tr><tr><td>57262</td><td>Tami</td><td>Rivera</td><td>910 Lopez Pass Apt. 426</td><td>2001-06-29</td><td>2020-11-12</td><td>null</td><td>True</td></tr><tr><td>57263</td><td>Joseph</td><td>Hodge</td><td>411 Mccoy Haven</td><td>1993-04-30</td><td>2020-05-29</td><td>null</td><td>False</td></tr><tr><td>57264</td><td>Lauren</td><td>Brown</td><td>667 Rodriguez Ramp</td><td>2002-10-20</td><td>2020-05-10</td><td>null</td><td>False</td></tr><tr><td>57265</td><td>Stephanie</td><td>Reed</td><td>90789 Fowler Circle</td><td>1993-03-20</td><td>2018-09-05</td><td>2019-09-01</td><td>True</td></tr><tr><td>57266</td><td>Brittney</td><td>Lamb</td><td>55635 Valerie Falls</td><td>1993-12-09</td><td>2020-10-10</td><td>null</td><td>True</td></tr></tbody></table></div>"
      ]
     },
     "metadata": {
      "application/vnd.databricks.v1+output": {
       "addedWidgets": {},
       "aggData": [],
       "aggError": "",
       "aggOverflow": false,
       "aggSchema": [],
       "aggSeriesLimitReached": false,
       "aggType": "",
       "arguments": {},
       "columnCustomDisplayInfos": {},
       "data": [
        [
         "57257",
         "Mark",
         "Mcfarland",
         "9928 Hunter Ranch",
         "1982-02-01",
         "2020-12-05",
         null,
         "False"
        ],
        [
         "57258",
         "Mark",
         "Davis",
         "20036 Barrett Summit Apt. 714",
         "1963-07-28",
         "2017-07-12",
         null,
         "True"
        ],
        [
         "57259",
         "Bryan",
         "Manning",
         "089 Sarah Square",
         "1984-11-05",
         "2018-08-10",
         null,
         "True"
        ],
        [
         "57260",
         "Michele",
         "Rowe",
         "3157 Nicole Ferry Apt. 826",
         "1997-09-21",
         "2016-06-03",
         null,
         "True"
        ],
        [
         "57261",
         "John",
         "Mckenzie",
         "312 Jessica Wells",
         "2002-10-13",
         "2016-02-01",
         "2018-07-01",
         "True"
        ],
        [
         "57262",
         "Tami",
         "Rivera",
         "910 Lopez Pass Apt. 426",
         "2001-06-29",
         "2020-11-12",
         null,
         "True"
        ],
        [
         "57263",
         "Joseph",
         "Hodge",
         "411 Mccoy Haven",
         "1993-04-30",
         "2020-05-29",
         null,
         "False"
        ],
        [
         "57264",
         "Lauren",
         "Brown",
         "667 Rodriguez Ramp",
         "2002-10-20",
         "2020-05-10",
         null,
         "False"
        ],
        [
         "57265",
         "Stephanie",
         "Reed",
         "90789 Fowler Circle",
         "1993-03-20",
         "2018-09-05",
         "2019-09-01",
         "True"
        ],
        [
         "57266",
         "Brittney",
         "Lamb",
         "55635 Valerie Falls",
         "1993-12-09",
         "2020-10-10",
         null,
         "True"
        ]
       ],
       "datasetInfos": [],
       "dbfsResultPath": null,
       "isJsonSchema": true,
       "metadata": {},
       "overflow": false,
       "plotOptions": {
        "customPlotOptions": {},
        "displayType": "table",
        "pivotAggregation": null,
        "pivotColumns": null,
        "xColumns": null,
        "yColumns": null
       },
       "removedWidgets": [],
       "schema": [
        {
         "metadata": "{}",
         "name": "rider_id",
         "type": "\"string\""
        },
        {
         "metadata": "{}",
         "name": "first",
         "type": "\"string\""
        },
        {
         "metadata": "{}",
         "name": "last",
         "type": "\"string\""
        },
        {
         "metadata": "{}",
         "name": "address",
         "type": "\"string\""
        },
        {
         "metadata": "{}",
         "name": "birthday",
         "type": "\"string\""
        },
        {
         "metadata": "{}",
         "name": "account_start_date",
         "type": "\"string\""
        },
        {
         "metadata": "{}",
         "name": "account_end_date",
         "type": "\"string\""
        },
        {
         "metadata": "{}",
         "name": "is_member",
         "type": "\"string\""
        }
       ],
       "type": "table"
      }
     },
     "output_type": "display_data"
    }
   ],
   "source": [
    "riders = spark.table(\"stagingrider\")\n",
    "display(riders.limit(nrows_display))"
   ]
  },
  {
   "cell_type": "code",
   "execution_count": 0,
   "metadata": {
    "application/vnd.databricks.v1+cell": {
     "cellMetadata": {
      "byteLimit": 2048000,
      "rowLimit": 10000
     },
     "inputWidgets": {},
     "nuid": "be4dd387-239d-4929-ad37-e67899ac5730",
     "showTitle": false,
     "title": ""
    }
   },
   "outputs": [
    {
     "output_type": "display_data",
     "data": {
      "text/html": [
       "<style scoped>\n",
       "  .table-result-container {\n",
       "    max-height: 300px;\n",
       "    overflow: auto;\n",
       "  }\n",
       "  table, th, td {\n",
       "    border: 1px solid black;\n",
       "    border-collapse: collapse;\n",
       "  }\n",
       "  th, td {\n",
       "    padding: 5px;\n",
       "  }\n",
       "  th {\n",
       "    text-align: left;\n",
       "  }\n",
       "</style><div class='table-result-container'><table class='table-result'><thead style='background-color: white'><tr><th>rider_id</th><th>first</th><th>last</th><th>address</th><th>birthday</th><th>account_start_date</th><th>account_end_date</th><th>is_member</th></tr></thead><tbody><tr><td>1231</td><td>Norman</td><td>Patel</td><td>0957 Elizabeth Pike Suite 566</td><td>1987-12-26</td><td>2015-09-21</td><td>null</td><td>True</td></tr><tr><td>1397</td><td>Lacey</td><td>Smith</td><td>9260 Brendan Roads</td><td>1962-09-27</td><td>2019-05-05</td><td>null</td><td>True</td></tr><tr><td>1461</td><td>Bill</td><td>Craig</td><td>078 Richards Shoal</td><td>2000-10-27</td><td>2019-02-05</td><td>null</td><td>True</td></tr><tr><td>1627</td><td>Crystal</td><td>Moses</td><td>122 Gomez Springs Suite 303</td><td>1992-02-22</td><td>2017-08-20</td><td>2019-03-01</td><td>True</td></tr><tr><td>1802</td><td>Courtney</td><td>Roberts</td><td>154 Krueger Islands Suite 247</td><td>2002-04-03</td><td>2019-06-05</td><td>null</td><td>True</td></tr><tr><td>1817</td><td>Sandra</td><td>Harper</td><td>90302 Brent Forks</td><td>2004-02-25</td><td>2016-03-13</td><td>2018-10-01</td><td>True</td></tr><tr><td>2152</td><td>Tiffany</td><td>Lewis</td><td>052 Alex Bridge Apt. 834</td><td>1978-03-13</td><td>2021-02-25</td><td>2021-04-01</td><td>True</td></tr><tr><td>2328</td><td>Lisa</td><td>Green</td><td>9928 Smith Cliffs Apt. 094</td><td>1978-01-29</td><td>2015-04-02</td><td>2021-08-01</td><td>True</td></tr><tr><td>2435</td><td>Lisa</td><td>Walker</td><td>82195 Richard Squares Suite 932</td><td>1992-01-16</td><td>2021-10-08</td><td>null</td><td>True</td></tr><tr><td>2507</td><td>Jerome</td><td>Evans</td><td>02699 Johnathan Corner</td><td>1967-06-17</td><td>2022-01-23</td><td>null</td><td>True</td></tr></tbody></table></div>"
      ]
     },
     "metadata": {
      "application/vnd.databricks.v1+output": {
       "addedWidgets": {},
       "aggData": [],
       "aggError": "",
       "aggOverflow": false,
       "aggSchema": [],
       "aggSeriesLimitReached": false,
       "aggType": "",
       "arguments": {},
       "columnCustomDisplayInfos": {},
       "data": [
        [
         "1231",
         "Norman",
         "Patel",
         "0957 Elizabeth Pike Suite 566",
         "1987-12-26",
         "2015-09-21",
         null,
         "True"
        ],
        [
         "1397",
         "Lacey",
         "Smith",
         "9260 Brendan Roads",
         "1962-09-27",
         "2019-05-05",
         null,
         "True"
        ],
        [
         "1461",
         "Bill",
         "Craig",
         "078 Richards Shoal",
         "2000-10-27",
         "2019-02-05",
         null,
         "True"
        ],
        [
         "1627",
         "Crystal",
         "Moses",
         "122 Gomez Springs Suite 303",
         "1992-02-22",
         "2017-08-20",
         "2019-03-01",
         "True"
        ],
        [
         "1802",
         "Courtney",
         "Roberts",
         "154 Krueger Islands Suite 247",
         "2002-04-03",
         "2019-06-05",
         null,
         "True"
        ],
        [
         "1817",
         "Sandra",
         "Harper",
         "90302 Brent Forks",
         "2004-02-25",
         "2016-03-13",
         "2018-10-01",
         "True"
        ],
        [
         "2152",
         "Tiffany",
         "Lewis",
         "052 Alex Bridge Apt. 834",
         "1978-03-13",
         "2021-02-25",
         "2021-04-01",
         "True"
        ],
        [
         "2328",
         "Lisa",
         "Green",
         "9928 Smith Cliffs Apt. 094",
         "1978-01-29",
         "2015-04-02",
         "2021-08-01",
         "True"
        ],
        [
         "2435",
         "Lisa",
         "Walker",
         "82195 Richard Squares Suite 932",
         "1992-01-16",
         "2021-10-08",
         null,
         "True"
        ],
        [
         "2507",
         "Jerome",
         "Evans",
         "02699 Johnathan Corner",
         "1967-06-17",
         "2022-01-23",
         null,
         "True"
        ]
       ],
       "datasetInfos": [],
       "dbfsResultPath": null,
       "isJsonSchema": true,
       "metadata": {},
       "overflow": false,
       "plotOptions": {
        "customPlotOptions": {},
        "displayType": "table",
        "pivotAggregation": null,
        "pivotColumns": null,
        "xColumns": null,
        "yColumns": null
       },
       "removedWidgets": [],
       "schema": [
        {
         "metadata": "{}",
         "name": "rider_id",
         "type": "\"string\""
        },
        {
         "metadata": "{}",
         "name": "first",
         "type": "\"string\""
        },
        {
         "metadata": "{}",
         "name": "last",
         "type": "\"string\""
        },
        {
         "metadata": "{}",
         "name": "address",
         "type": "\"string\""
        },
        {
         "metadata": "{}",
         "name": "birthday",
         "type": "\"string\""
        },
        {
         "metadata": "{}",
         "name": "account_start_date",
         "type": "\"string\""
        },
        {
         "metadata": "{}",
         "name": "account_end_date",
         "type": "\"string\""
        },
        {
         "metadata": "{}",
         "name": "is_member",
         "type": "\"string\""
        }
       ],
       "type": "table"
      }
     },
     "output_type": "display_data"
    }
   ],
   "source": [
    "# Drop if exist\n",
    "spark.sql(\"DROP TABLE IF EXISTS default.dim_rider\")\n",
    "\n",
    "# Data wrangling (basically dropping duplicates in surrogate column), and then save as Gold table in `default` directory\n",
    "riders.dropDuplicates([\"rider_id\"])         \\\n",
    "    .write.format(\"delta\")                  \\\n",
    "    .mode(\"overwrite\")                      \\\n",
    "    .saveAsTable(\"default.dim_rider\")\n",
    "\n",
    "# Final check\n",
    "review_dim_rider = spark.table(\"dim_rider\")\n",
    "display(review_dim_rider.limit(nrows_display))"
   ]
  },
  {
   "cell_type": "markdown",
   "metadata": {
    "application/vnd.databricks.v1+cell": {
     "cellMetadata": {
      "byteLimit": 2048000,
      "rowLimit": 10000
     },
     "inputWidgets": {},
     "nuid": "aebee811-1fa7-4de8-b1ea-2110336406ac",
     "showTitle": false,
     "title": ""
    }
   },
   "source": [
    "## 3. Dimension table - Station"
   ]
  },
  {
   "cell_type": "code",
   "execution_count": 0,
   "metadata": {
    "application/vnd.databricks.v1+cell": {
     "cellMetadata": {
      "byteLimit": 2048000,
      "rowLimit": 10000
     },
     "inputWidgets": {},
     "nuid": "51442647-fef2-4c92-9587-5c1331ccdd85",
     "showTitle": false,
     "title": ""
    }
   },
   "outputs": [
    {
     "output_type": "display_data",
     "data": {
      "text/html": [
       "<style scoped>\n",
       "  .table-result-container {\n",
       "    max-height: 300px;\n",
       "    overflow: auto;\n",
       "  }\n",
       "  table, th, td {\n",
       "    border: 1px solid black;\n",
       "    border-collapse: collapse;\n",
       "  }\n",
       "  th, td {\n",
       "    padding: 5px;\n",
       "  }\n",
       "  th {\n",
       "    text-align: left;\n",
       "  }\n",
       "</style><div class='table-result-container'><table class='table-result'><thead style='background-color: white'><tr><th>station_id</th><th>name</th><th>latitude</th><th>longitude</th></tr></thead><tbody><tr><td>525</td><td>Glenwood Ave & Touhy Ave</td><td>42.012701</td><td>-87.66605799999999</td></tr><tr><td>KA1503000012</td><td>Clark St & Lake St</td><td>41.88579466666667</td><td>-87.63110066666668</td></tr><tr><td>637</td><td>Wood St & Chicago Ave</td><td>41.895634</td><td>-87.672069</td></tr><tr><td>13216</td><td>State St & 33rd St</td><td>41.8347335</td><td>-87.6258275</td></tr><tr><td>18003</td><td>Fairbanks St & Superior St</td><td>41.89580766666667</td><td>-87.62025316666669</td></tr><tr><td>KP1705001026</td><td>LaSalle Dr & Huron St</td><td>41.894877</td><td>-87.632326</td></tr><tr><td>13253</td><td>Lincoln Ave & Waveland Ave</td><td>41.948797</td><td>-87.675278</td></tr><tr><td>KA1503000044</td><td>Rush St & Hubbard St</td><td>41.890173</td><td>-87.62618499999999</td></tr><tr><td>KA1504000140</td><td>Winchester Ave & Elston Ave</td><td>41.92403733333333</td><td>-87.67641483333334</td></tr><tr><td>TA1305000032</td><td>Clinton St & Madison St</td><td>41.882242</td><td>-87.64106600000001</td></tr></tbody></table></div>"
      ]
     },
     "metadata": {
      "application/vnd.databricks.v1+output": {
       "addedWidgets": {},
       "aggData": [],
       "aggError": "",
       "aggOverflow": false,
       "aggSchema": [],
       "aggSeriesLimitReached": false,
       "aggType": "",
       "arguments": {},
       "columnCustomDisplayInfos": {},
       "data": [
        [
         "525",
         "Glenwood Ave & Touhy Ave",
         "42.012701",
         "-87.66605799999999"
        ],
        [
         "KA1503000012",
         "Clark St & Lake St",
         "41.88579466666667",
         "-87.63110066666668"
        ],
        [
         "637",
         "Wood St & Chicago Ave",
         "41.895634",
         "-87.672069"
        ],
        [
         "13216",
         "State St & 33rd St",
         "41.8347335",
         "-87.6258275"
        ],
        [
         "18003",
         "Fairbanks St & Superior St",
         "41.89580766666667",
         "-87.62025316666669"
        ],
        [
         "KP1705001026",
         "LaSalle Dr & Huron St",
         "41.894877",
         "-87.632326"
        ],
        [
         "13253",
         "Lincoln Ave & Waveland Ave",
         "41.948797",
         "-87.675278"
        ],
        [
         "KA1503000044",
         "Rush St & Hubbard St",
         "41.890173",
         "-87.62618499999999"
        ],
        [
         "KA1504000140",
         "Winchester Ave & Elston Ave",
         "41.92403733333333",
         "-87.67641483333334"
        ],
        [
         "TA1305000032",
         "Clinton St & Madison St",
         "41.882242",
         "-87.64106600000001"
        ]
       ],
       "datasetInfos": [],
       "dbfsResultPath": null,
       "isJsonSchema": true,
       "metadata": {},
       "overflow": false,
       "plotOptions": {
        "customPlotOptions": {},
        "displayType": "table",
        "pivotAggregation": null,
        "pivotColumns": null,
        "xColumns": null,
        "yColumns": null
       },
       "removedWidgets": [],
       "schema": [
        {
         "metadata": "{}",
         "name": "station_id",
         "type": "\"string\""
        },
        {
         "metadata": "{}",
         "name": "name",
         "type": "\"string\""
        },
        {
         "metadata": "{}",
         "name": "latitude",
         "type": "\"string\""
        },
        {
         "metadata": "{}",
         "name": "longitude",
         "type": "\"string\""
        }
       ],
       "type": "table"
      }
     },
     "output_type": "display_data"
    }
   ],
   "source": [
    "stations = spark.table(\"stagingstation\")\n",
    "display(stations.limit(nrows_display))"
   ]
  },
  {
   "cell_type": "code",
   "execution_count": 0,
   "metadata": {
    "application/vnd.databricks.v1+cell": {
     "cellMetadata": {
      "byteLimit": 2048000,
      "rowLimit": 10000
     },
     "inputWidgets": {},
     "nuid": "dc8ab97b-3bff-48d8-9974-3f4a19aa1962",
     "showTitle": false,
     "title": ""
    }
   },
   "outputs": [
    {
     "output_type": "display_data",
     "data": {
      "text/html": [
       "<style scoped>\n",
       "  .table-result-container {\n",
       "    max-height: 300px;\n",
       "    overflow: auto;\n",
       "  }\n",
       "  table, th, td {\n",
       "    border: 1px solid black;\n",
       "    border-collapse: collapse;\n",
       "  }\n",
       "  th, td {\n",
       "    padding: 5px;\n",
       "  }\n",
       "  th {\n",
       "    text-align: left;\n",
       "  }\n",
       "</style><div class='table-result-container'><table class='table-result'><thead style='background-color: white'><tr><th>station_id</th><th>name</th><th>latitude</th><th>longitude</th></tr></thead><tbody><tr><td>13192</td><td>Halsted St & Dickens Ave</td><td>41.919936</td><td>-87.64883</td></tr><tr><td>KA1504000162</td><td>Clark St & Lunt Ave</td><td>42.009074</td><td>-87.67419</td></tr><tr><td>15634</td><td>Western Ave & Roscoe St</td><td>41.943093</td><td>-87.6873335</td></tr><tr><td>15539</td><td>Desplaines St & Jackson Blvd</td><td>41.878161166666665</td><td>-87.64428766666668</td></tr><tr><td>TA1305000022</td><td>Orleans St & Merchandise Mart Plaza</td><td>41.888243</td><td>-87.63639</td></tr><tr><td>KA1503000075</td><td>DuSable Museum</td><td>41.79156801058</td><td>-87.60785217739999</td></tr><tr><td>13133</td><td>Damen Ave & Cortland St</td><td>41.915983000000004</td><td>-87.677335</td></tr><tr><td>TA1305000009</td><td>Clark St & Ida B Wells Dr</td><td>41.8759326655</td><td>-87.63058453549999</td></tr><tr><td>KA1504000135</td><td>Wells St & Elm St</td><td>41.90320733333333</td><td>-87.63461616666666</td></tr><tr><td>17660</td><td>California Ave & Cortez St</td><td>41.900363</td><td>-87.696704</td></tr></tbody></table></div>"
      ]
     },
     "metadata": {
      "application/vnd.databricks.v1+output": {
       "addedWidgets": {},
       "aggData": [],
       "aggError": "",
       "aggOverflow": false,
       "aggSchema": [],
       "aggSeriesLimitReached": false,
       "aggType": "",
       "arguments": {},
       "columnCustomDisplayInfos": {},
       "data": [
        [
         "13192",
         "Halsted St & Dickens Ave",
         "41.919936",
         "-87.64883"
        ],
        [
         "KA1504000162",
         "Clark St & Lunt Ave",
         "42.009074",
         "-87.67419"
        ],
        [
         "15634",
         "Western Ave & Roscoe St",
         "41.943093",
         "-87.6873335"
        ],
        [
         "15539",
         "Desplaines St & Jackson Blvd",
         "41.878161166666665",
         "-87.64428766666668"
        ],
        [
         "TA1305000022",
         "Orleans St & Merchandise Mart Plaza",
         "41.888243",
         "-87.63639"
        ],
        [
         "KA1503000075",
         "DuSable Museum",
         "41.79156801058",
         "-87.60785217739999"
        ],
        [
         "13133",
         "Damen Ave & Cortland St",
         "41.915983000000004",
         "-87.677335"
        ],
        [
         "TA1305000009",
         "Clark St & Ida B Wells Dr",
         "41.8759326655",
         "-87.63058453549999"
        ],
        [
         "KA1504000135",
         "Wells St & Elm St",
         "41.90320733333333",
         "-87.63461616666666"
        ],
        [
         "17660",
         "California Ave & Cortez St",
         "41.900363",
         "-87.696704"
        ]
       ],
       "datasetInfos": [],
       "dbfsResultPath": null,
       "isJsonSchema": true,
       "metadata": {},
       "overflow": false,
       "plotOptions": {
        "customPlotOptions": {},
        "displayType": "table",
        "pivotAggregation": null,
        "pivotColumns": null,
        "xColumns": null,
        "yColumns": null
       },
       "removedWidgets": [],
       "schema": [
        {
         "metadata": "{}",
         "name": "station_id",
         "type": "\"string\""
        },
        {
         "metadata": "{}",
         "name": "name",
         "type": "\"string\""
        },
        {
         "metadata": "{}",
         "name": "latitude",
         "type": "\"string\""
        },
        {
         "metadata": "{}",
         "name": "longitude",
         "type": "\"string\""
        }
       ],
       "type": "table"
      }
     },
     "output_type": "display_data"
    }
   ],
   "source": [
    "# Drop if exist\n",
    "spark.sql(\"DROP TABLE IF EXISTS default.dim_station\")\n",
    "\n",
    "# Data wrangling (basically dropping duplicates in surrogate column), and then save as Gold table in `default` directory\n",
    "stations.dropDuplicates([\"station_id\"])     \\\n",
    "    .write.format(\"delta\")                  \\\n",
    "    .mode(\"overwrite\")                      \\\n",
    "    .saveAsTable(\"default.dim_station\")\n",
    "\n",
    "# Final check\n",
    "review_dim_station = spark.table(\"dim_station\")\n",
    "display(review_dim_station.limit(nrows_display))"
   ]
  },
  {
   "cell_type": "markdown",
   "metadata": {
    "application/vnd.databricks.v1+cell": {
     "cellMetadata": {
      "byteLimit": 2048000,
      "rowLimit": 10000
     },
     "inputWidgets": {},
     "nuid": "785d5091-64d9-4f5f-ab79-a4f2bf1728a7",
     "showTitle": false,
     "title": ""
    }
   },
   "source": [
    "## 4. Fact table - Trip"
   ]
  },
  {
   "cell_type": "code",
   "execution_count": 0,
   "metadata": {
    "application/vnd.databricks.v1+cell": {
     "cellMetadata": {
      "byteLimit": 2048000,
      "rowLimit": 10000
     },
     "inputWidgets": {},
     "nuid": "73256bdd-8209-4bf1-8bf0-399abc8d7f5b",
     "showTitle": false,
     "title": ""
    }
   },
   "outputs": [
    {
     "output_type": "display_data",
     "data": {
      "text/html": [
       "<style scoped>\n",
       "  .table-result-container {\n",
       "    max-height: 300px;\n",
       "    overflow: auto;\n",
       "  }\n",
       "  table, th, td {\n",
       "    border: 1px solid black;\n",
       "    border-collapse: collapse;\n",
       "  }\n",
       "  th, td {\n",
       "    padding: 5px;\n",
       "  }\n",
       "  th {\n",
       "    text-align: left;\n",
       "  }\n",
       "</style><div class='table-result-container'><table class='table-result'><thead style='background-color: white'><tr><th>trip_id</th><th>rideable_type</th><th>started_at</th><th>ended_at</th><th>start_station_id</th><th>end_station_id</th><th>rider_id</th></tr></thead><tbody><tr><td>7E1E50AC37E2DAD3</td><td>classic_bike</td><td>2021-08-14 14:01:36</td><td>2021-08-14 14:34:49</td><td>TA1309000007</td><td>13089</td><td>2644</td></tr><tr><td>ADFF32195521E952</td><td>classic_bike</td><td>2021-08-29 16:16:36</td><td>2021-08-29 16:24:43</td><td>13288</td><td>TA1308000031</td><td>37747</td></tr><tr><td>7C59843DB8D13CC7</td><td>electric_bike</td><td>2021-08-27 11:06:34</td><td>2021-08-27 11:12:52</td><td>TA1307000062</td><td>TA1305000020</td><td>63224</td></tr><tr><td>5B788004F8A5204C</td><td>classic_bike</td><td>2021-08-27 07:35:33</td><td>2021-08-27 07:59:35</td><td>13353</td><td>13242</td><td>45050</td></tr><tr><td>078629DD14B634AE</td><td>classic_bike</td><td>2021-08-08 15:00:30</td><td>2021-08-08 15:22:57</td><td>13353</td><td>13242</td><td>33762</td></tr><tr><td>5E98DA99CB0B52E4</td><td>classic_bike</td><td>2021-08-15 18:01:33</td><td>2021-08-15 18:26:52</td><td>13353</td><td>13242</td><td>33902</td></tr><tr><td>6A3F6243C9164889</td><td>classic_bike</td><td>2021-08-14 02:22:42</td><td>2021-08-14 02:26:10</td><td>13033</td><td>TA1305000020</td><td>47737</td></tr><tr><td>F034B9F0C7194317</td><td>classic_bike</td><td>2021-08-20 14:28:33</td><td>2021-08-20 14:55:42</td><td>TA1307000130</td><td>13089</td><td>28123</td></tr><tr><td>74EE09157161558A</td><td>classic_bike</td><td>2021-08-21 18:17:28</td><td>2021-08-21 19:03:19</td><td>15578</td><td>TA1308000031</td><td>60078</td></tr><tr><td>7EF8ED3865996053</td><td>electric_bike</td><td>2021-08-16 14:54:06</td><td>2021-08-16 15:09:13</td><td>13109</td><td>519</td><td>34360</td></tr></tbody></table></div>"
      ]
     },
     "metadata": {
      "application/vnd.databricks.v1+output": {
       "addedWidgets": {},
       "aggData": [],
       "aggError": "",
       "aggOverflow": false,
       "aggSchema": [],
       "aggSeriesLimitReached": false,
       "aggType": "",
       "arguments": {},
       "columnCustomDisplayInfos": {},
       "data": [
        [
         "7E1E50AC37E2DAD3",
         "classic_bike",
         "2021-08-14 14:01:36",
         "2021-08-14 14:34:49",
         "TA1309000007",
         "13089",
         "2644"
        ],
        [
         "ADFF32195521E952",
         "classic_bike",
         "2021-08-29 16:16:36",
         "2021-08-29 16:24:43",
         "13288",
         "TA1308000031",
         "37747"
        ],
        [
         "7C59843DB8D13CC7",
         "electric_bike",
         "2021-08-27 11:06:34",
         "2021-08-27 11:12:52",
         "TA1307000062",
         "TA1305000020",
         "63224"
        ],
        [
         "5B788004F8A5204C",
         "classic_bike",
         "2021-08-27 07:35:33",
         "2021-08-27 07:59:35",
         "13353",
         "13242",
         "45050"
        ],
        [
         "078629DD14B634AE",
         "classic_bike",
         "2021-08-08 15:00:30",
         "2021-08-08 15:22:57",
         "13353",
         "13242",
         "33762"
        ],
        [
         "5E98DA99CB0B52E4",
         "classic_bike",
         "2021-08-15 18:01:33",
         "2021-08-15 18:26:52",
         "13353",
         "13242",
         "33902"
        ],
        [
         "6A3F6243C9164889",
         "classic_bike",
         "2021-08-14 02:22:42",
         "2021-08-14 02:26:10",
         "13033",
         "TA1305000020",
         "47737"
        ],
        [
         "F034B9F0C7194317",
         "classic_bike",
         "2021-08-20 14:28:33",
         "2021-08-20 14:55:42",
         "TA1307000130",
         "13089",
         "28123"
        ],
        [
         "74EE09157161558A",
         "classic_bike",
         "2021-08-21 18:17:28",
         "2021-08-21 19:03:19",
         "15578",
         "TA1308000031",
         "60078"
        ],
        [
         "7EF8ED3865996053",
         "electric_bike",
         "2021-08-16 14:54:06",
         "2021-08-16 15:09:13",
         "13109",
         "519",
         "34360"
        ]
       ],
       "datasetInfos": [],
       "dbfsResultPath": null,
       "isJsonSchema": true,
       "metadata": {},
       "overflow": false,
       "plotOptions": {
        "customPlotOptions": {},
        "displayType": "table",
        "pivotAggregation": null,
        "pivotColumns": null,
        "xColumns": null,
        "yColumns": null
       },
       "removedWidgets": [],
       "schema": [
        {
         "metadata": "{}",
         "name": "trip_id",
         "type": "\"string\""
        },
        {
         "metadata": "{}",
         "name": "rideable_type",
         "type": "\"string\""
        },
        {
         "metadata": "{}",
         "name": "started_at",
         "type": "\"string\""
        },
        {
         "metadata": "{}",
         "name": "ended_at",
         "type": "\"string\""
        },
        {
         "metadata": "{}",
         "name": "start_station_id",
         "type": "\"string\""
        },
        {
         "metadata": "{}",
         "name": "end_station_id",
         "type": "\"string\""
        },
        {
         "metadata": "{}",
         "name": "rider_id",
         "type": "\"string\""
        }
       ],
       "type": "table"
      }
     },
     "output_type": "display_data"
    }
   ],
   "source": [
    "trips = spark.table(\"stagingtrip\")\n",
    "display(trips.limit(nrows_display))"
   ]
  },
  {
   "cell_type": "markdown",
   "metadata": {
    "application/vnd.databricks.v1+cell": {
     "cellMetadata": {
      "byteLimit": 2048000,
      "rowLimit": 10000
     },
     "inputWidgets": {},
     "nuid": "499828b0-0676-4255-a130-98ecf99a3cc5",
     "showTitle": false,
     "title": ""
    }
   },
   "source": [
    "We have to add these columns to match current table schema with our star schema design:\n",
    "- `trip_date` : date of the start of the trip, date format of `yyyy-mm-dd`.\n",
    "- `trip_time` : time of the start of the trip, time format of `hh:mm:ss`.\n",
    "- `rider_age` : age of the rider, int format.\n",
    "- `duration` : total time length of the trip, in SECONDS, bigint format."
   ]
  },
  {
   "cell_type": "code",
   "execution_count": 0,
   "metadata": {
    "application/vnd.databricks.v1+cell": {
     "cellMetadata": {
      "byteLimit": 2048000,
      "rowLimit": 10000
     },
     "inputWidgets": {},
     "nuid": "43014090-f257-4686-b99b-443460db7450",
     "showTitle": false,
     "title": ""
    }
   },
   "outputs": [
    {
     "output_type": "display_data",
     "data": {
      "text/html": [
       "<style scoped>\n",
       "  .table-result-container {\n",
       "    max-height: 300px;\n",
       "    overflow: auto;\n",
       "  }\n",
       "  table, th, td {\n",
       "    border: 1px solid black;\n",
       "    border-collapse: collapse;\n",
       "  }\n",
       "  th, td {\n",
       "    padding: 5px;\n",
       "  }\n",
       "  th {\n",
       "    text-align: left;\n",
       "  }\n",
       "</style><div class='table-result-container'><table class='table-result'><thead style='background-color: white'><tr><th>trip_id</th><th>trip_date</th><th>trip_time</th><th>started_at</th><th>ended_at</th><th>rider_id</th><th>rideable_type</th><th>rider_age</th><th>start_station_id</th><th>end_station_id</th><th>duration</th></tr></thead><tbody><tr><td>7E1E50AC37E2DAD3</td><td>2021-08-14</td><td>14:01:36</td><td>2021-08-14 14:01:36</td><td>2021-08-14 14:34:49</td><td>2644</td><td>classic_bike</td><td>46.0</td><td>TA1309000007</td><td>13089</td><td>1993</td></tr><tr><td>ADFF32195521E952</td><td>2021-08-29</td><td>16:16:36</td><td>2021-08-29 16:16:36</td><td>2021-08-29 16:24:43</td><td>37747</td><td>classic_bike</td><td>20.0</td><td>13288</td><td>TA1308000031</td><td>487</td></tr><tr><td>7C59843DB8D13CC7</td><td>2021-08-27</td><td>11:06:34</td><td>2021-08-27 11:06:34</td><td>2021-08-27 11:12:52</td><td>63224</td><td>electric_bike</td><td>35.0</td><td>TA1307000062</td><td>TA1305000020</td><td>378</td></tr><tr><td>5B788004F8A5204C</td><td>2021-08-27</td><td>07:35:33</td><td>2021-08-27 07:35:33</td><td>2021-08-27 07:59:35</td><td>45050</td><td>classic_bike</td><td>28.0</td><td>13353</td><td>13242</td><td>1442</td></tr><tr><td>078629DD14B634AE</td><td>2021-08-08</td><td>15:00:30</td><td>2021-08-08 15:00:30</td><td>2021-08-08 15:22:57</td><td>33762</td><td>classic_bike</td><td>45.0</td><td>13353</td><td>13242</td><td>1347</td></tr><tr><td>5E98DA99CB0B52E4</td><td>2021-08-15</td><td>18:01:33</td><td>2021-08-15 18:01:33</td><td>2021-08-15 18:26:52</td><td>33902</td><td>classic_bike</td><td>37.0</td><td>13353</td><td>13242</td><td>1519</td></tr><tr><td>6A3F6243C9164889</td><td>2021-08-14</td><td>02:22:42</td><td>2021-08-14 02:22:42</td><td>2021-08-14 02:26:10</td><td>47737</td><td>classic_bike</td><td>25.0</td><td>13033</td><td>TA1305000020</td><td>208</td></tr><tr><td>F034B9F0C7194317</td><td>2021-08-20</td><td>14:28:33</td><td>2021-08-20 14:28:33</td><td>2021-08-20 14:55:42</td><td>28123</td><td>classic_bike</td><td>44.0</td><td>TA1307000130</td><td>13089</td><td>1629</td></tr><tr><td>74EE09157161558A</td><td>2021-08-21</td><td>18:17:28</td><td>2021-08-21 18:17:28</td><td>2021-08-21 19:03:19</td><td>60078</td><td>classic_bike</td><td>29.0</td><td>15578</td><td>TA1308000031</td><td>2751</td></tr><tr><td>7EF8ED3865996053</td><td>2021-08-16</td><td>14:54:06</td><td>2021-08-16 14:54:06</td><td>2021-08-16 15:09:13</td><td>34360</td><td>electric_bike</td><td>51.0</td><td>13109</td><td>519</td><td>907</td></tr></tbody></table></div>"
      ]
     },
     "metadata": {
      "application/vnd.databricks.v1+output": {
       "addedWidgets": {},
       "aggData": [],
       "aggError": "",
       "aggOverflow": false,
       "aggSchema": [],
       "aggSeriesLimitReached": false,
       "aggType": "",
       "arguments": {},
       "columnCustomDisplayInfos": {},
       "data": [
        [
         "7E1E50AC37E2DAD3",
         "2021-08-14",
         "14:01:36",
         "2021-08-14 14:01:36",
         "2021-08-14 14:34:49",
         "2644",
         "classic_bike",
         46.0,
         "TA1309000007",
         "13089",
         1993
        ],
        [
         "ADFF32195521E952",
         "2021-08-29",
         "16:16:36",
         "2021-08-29 16:16:36",
         "2021-08-29 16:24:43",
         "37747",
         "classic_bike",
         20.0,
         "13288",
         "TA1308000031",
         487
        ],
        [
         "7C59843DB8D13CC7",
         "2021-08-27",
         "11:06:34",
         "2021-08-27 11:06:34",
         "2021-08-27 11:12:52",
         "63224",
         "electric_bike",
         35.0,
         "TA1307000062",
         "TA1305000020",
         378
        ],
        [
         "5B788004F8A5204C",
         "2021-08-27",
         "07:35:33",
         "2021-08-27 07:35:33",
         "2021-08-27 07:59:35",
         "45050",
         "classic_bike",
         28.0,
         "13353",
         "13242",
         1442
        ],
        [
         "078629DD14B634AE",
         "2021-08-08",
         "15:00:30",
         "2021-08-08 15:00:30",
         "2021-08-08 15:22:57",
         "33762",
         "classic_bike",
         45.0,
         "13353",
         "13242",
         1347
        ],
        [
         "5E98DA99CB0B52E4",
         "2021-08-15",
         "18:01:33",
         "2021-08-15 18:01:33",
         "2021-08-15 18:26:52",
         "33902",
         "classic_bike",
         37.0,
         "13353",
         "13242",
         1519
        ],
        [
         "6A3F6243C9164889",
         "2021-08-14",
         "02:22:42",
         "2021-08-14 02:22:42",
         "2021-08-14 02:26:10",
         "47737",
         "classic_bike",
         25.0,
         "13033",
         "TA1305000020",
         208
        ],
        [
         "F034B9F0C7194317",
         "2021-08-20",
         "14:28:33",
         "2021-08-20 14:28:33",
         "2021-08-20 14:55:42",
         "28123",
         "classic_bike",
         44.0,
         "TA1307000130",
         "13089",
         1629
        ],
        [
         "74EE09157161558A",
         "2021-08-21",
         "18:17:28",
         "2021-08-21 18:17:28",
         "2021-08-21 19:03:19",
         "60078",
         "classic_bike",
         29.0,
         "15578",
         "TA1308000031",
         2751
        ],
        [
         "7EF8ED3865996053",
         "2021-08-16",
         "14:54:06",
         "2021-08-16 14:54:06",
         "2021-08-16 15:09:13",
         "34360",
         "electric_bike",
         51.0,
         "13109",
         "519",
         907
        ]
       ],
       "datasetInfos": [],
       "dbfsResultPath": null,
       "isJsonSchema": true,
       "metadata": {},
       "overflow": false,
       "plotOptions": {
        "customPlotOptions": {},
        "displayType": "table",
        "pivotAggregation": null,
        "pivotColumns": null,
        "xColumns": null,
        "yColumns": null
       },
       "removedWidgets": [],
       "schema": [
        {
         "metadata": "{}",
         "name": "trip_id",
         "type": "\"string\""
        },
        {
         "metadata": "{}",
         "name": "trip_date",
         "type": "\"date\""
        },
        {
         "metadata": "{}",
         "name": "trip_time",
         "type": "\"string\""
        },
        {
         "metadata": "{}",
         "name": "started_at",
         "type": "\"string\""
        },
        {
         "metadata": "{}",
         "name": "ended_at",
         "type": "\"string\""
        },
        {
         "metadata": "{}",
         "name": "rider_id",
         "type": "\"string\""
        },
        {
         "metadata": "{}",
         "name": "rideable_type",
         "type": "\"string\""
        },
        {
         "metadata": "{}",
         "name": "rider_age",
         "type": "\"double\""
        },
        {
         "metadata": "{}",
         "name": "start_station_id",
         "type": "\"string\""
        },
        {
         "metadata": "{}",
         "name": "end_station_id",
         "type": "\"string\""
        },
        {
         "metadata": "{}",
         "name": "duration",
         "type": "\"long\""
        }
       ],
       "type": "table"
      }
     },
     "output_type": "display_data"
    }
   ],
   "source": [
    "# Drop if exist\n",
    "spark.sql(\"DROP TABLE IF EXISTS default.fact_trip\")\n",
    "\n",
    "# Data wrangling\n",
    "fact_trip = trips.alias(\"T\").join(                                                                      \\\n",
    "    riders.alias(\"R\"),                                                                                  \\\n",
    "    col(\"T.rider_id\") == col(\"R.rider_id\"),                                                             \\\n",
    "    \"left\"                                                                                              \\\n",
    ")                                                                                                       \\\n",
    "    .withColumn(                                                                                        \\\n",
    "        \"trip_date\",                                                                                    \\\n",
    "        f.to_date(substring(col(\"started_at\").cast(\"string\"), 1, 10), \"yyyy-MM-dd\")                     \\\n",
    "    )                                                                                                   \\\n",
    "    .withColumn(                                                                                        \\\n",
    "        \"trip_time\",                                                                                    \\\n",
    "        substring(col(\"started_at\").cast(\"string\"), 12, 8)                                              \\\n",
    "    )                                                                                                   \\\n",
    "    .withColumn(                                                                                        \\\n",
    "        \"rider_age\",                                                                                    \\\n",
    "        round((unix_timestamp(\"started_at\") - unix_timestamp(\"birthday\", \"yyyy-MM-dd\")) /3600/24/365)   \\\n",
    "    )                                                                                                   \\\n",
    "    .withColumn(                                                                                        \\\n",
    "        \"duration\",                                                                                     \\\n",
    "        round((unix_timestamp(\"ended_at\") - unix_timestamp(\"started_at\")))                              \\\n",
    "    )                                                                                                   \\\n",
    "    .select(                                                                                            \\\n",
    "        \"trip_id\", \"trip_date\", \"trip_time\", \"started_at\", \"ended_at\", col(\"T.rider_id\"),               \\\n",
    "        \"rideable_type\", \"rider_age\", \"start_station_id\", \"end_station_id\", \"duration\"                  \\\n",
    "    )                                                                                                   \\\n",
    "\n",
    "display(fact_trip.limit(nrows_display))"
   ]
  },
  {
   "cell_type": "code",
   "execution_count": 0,
   "metadata": {
    "application/vnd.databricks.v1+cell": {
     "cellMetadata": {
      "byteLimit": 2048000,
      "rowLimit": 10000
     },
     "inputWidgets": {},
     "nuid": "23564dc5-bf4c-4d24-8a46-3df4e236119a",
     "showTitle": false,
     "title": ""
    }
   },
   "outputs": [
    {
     "output_type": "display_data",
     "data": {
      "text/html": [
       "<style scoped>\n",
       "  .table-result-container {\n",
       "    max-height: 300px;\n",
       "    overflow: auto;\n",
       "  }\n",
       "  table, th, td {\n",
       "    border: 1px solid black;\n",
       "    border-collapse: collapse;\n",
       "  }\n",
       "  th, td {\n",
       "    padding: 5px;\n",
       "  }\n",
       "  th {\n",
       "    text-align: left;\n",
       "  }\n",
       "</style><div class='table-result-container'><table class='table-result'><thead style='background-color: white'><tr><th>trip_id</th><th>trip_date</th><th>trip_time</th><th>started_at</th><th>ended_at</th><th>rider_id</th><th>rideable_type</th><th>rider_age</th><th>start_station_id</th><th>end_station_id</th><th>duration</th></tr></thead><tbody><tr><td>BB9370C505A989B3</td><td>2021-06-22</td><td>07:53:55</td><td>2021-06-22 07:53:55</td><td>2021-06-22 08:13:45</td><td>45612</td><td>electric_bike</td><td>44.0</td><td>TA1307000134</td><td>13021</td><td>1190</td></tr><tr><td>C91B7E06269B8EA4</td><td>2021-06-29</td><td>11:42:24</td><td>2021-06-29 11:42:24</td><td>2021-06-29 11:58:31</td><td>56083</td><td>electric_bike</td><td>39.0</td><td>13001</td><td>13021</td><td>967</td></tr><tr><td>05AD08DACC3C1292</td><td>2021-06-24</td><td>12:46:08</td><td>2021-06-24 12:46:08</td><td>2021-06-24 13:12:29</td><td>46659</td><td>classic_bike</td><td>16.0</td><td>TA1309000024</td><td>13434</td><td>1581</td></tr><tr><td>316BE0A30B040826</td><td>2021-06-16</td><td>17:27:40</td><td>2021-06-16 17:27:40</td><td>2021-06-16 19:27:57</td><td>15201</td><td>docked_bike</td><td>29.0</td><td>15545</td><td>TA1308000009</td><td>7217</td></tr><tr><td>94AC802A09EA31BE</td><td>2021-06-03</td><td>09:36:17</td><td>2021-06-03 09:36:17</td><td>2021-06-03 09:38:21</td><td>42409</td><td>classic_bike</td><td>49.0</td><td>TA1306000003</td><td>13021</td><td>124</td></tr><tr><td>D47DF29C94C08D58</td><td>2021-06-14</td><td>19:12:40</td><td>2021-06-14 19:12:40</td><td>2021-06-14 19:14:42</td><td>45834</td><td>electric_bike</td><td>55.0</td><td>TA1306000003</td><td>13021</td><td>122</td></tr><tr><td>A14E11622DEFD9CB</td><td>2021-06-06</td><td>12:47:16</td><td>2021-06-06 12:47:16</td><td>2021-06-06 13:02:03</td><td>63348</td><td>classic_bike</td><td>55.0</td><td>13224</td><td>13271</td><td>887</td></tr><tr><td>8CC18A43D3768E99</td><td>2021-06-05</td><td>12:41:03</td><td>2021-06-05 12:41:03</td><td>2021-06-05 12:47:03</td><td>11572</td><td>classic_bike</td><td>36.0</td><td>TA1307000164</td><td>TA1308000009</td><td>360</td></tr><tr><td>D995F46485664573</td><td>2021-06-18</td><td>19:52:30</td><td>2021-06-18 19:52:30</td><td>2021-06-18 20:35:52</td><td>52753</td><td>classic_bike</td><td>21.0</td><td>TA1306000012</td><td>KA1504000171</td><td>2602</td></tr><tr><td>24943516958EF917</td><td>2021-06-23</td><td>10:30:18</td><td>2021-06-23 10:30:18</td><td>2021-06-23 10:45:11</td><td>70159</td><td>electric_bike</td><td>47.0</td><td>TA1307000134</td><td>TA1309000033</td><td>893</td></tr></tbody></table></div>"
      ]
     },
     "metadata": {
      "application/vnd.databricks.v1+output": {
       "addedWidgets": {},
       "aggData": [],
       "aggError": "",
       "aggOverflow": false,
       "aggSchema": [],
       "aggSeriesLimitReached": false,
       "aggType": "",
       "arguments": {},
       "columnCustomDisplayInfos": {},
       "data": [
        [
         "BB9370C505A989B3",
         "2021-06-22",
         "07:53:55",
         "2021-06-22 07:53:55",
         "2021-06-22 08:13:45",
         "45612",
         "electric_bike",
         44.0,
         "TA1307000134",
         "13021",
         1190
        ],
        [
         "C91B7E06269B8EA4",
         "2021-06-29",
         "11:42:24",
         "2021-06-29 11:42:24",
         "2021-06-29 11:58:31",
         "56083",
         "electric_bike",
         39.0,
         "13001",
         "13021",
         967
        ],
        [
         "05AD08DACC3C1292",
         "2021-06-24",
         "12:46:08",
         "2021-06-24 12:46:08",
         "2021-06-24 13:12:29",
         "46659",
         "classic_bike",
         16.0,
         "TA1309000024",
         "13434",
         1581
        ],
        [
         "316BE0A30B040826",
         "2021-06-16",
         "17:27:40",
         "2021-06-16 17:27:40",
         "2021-06-16 19:27:57",
         "15201",
         "docked_bike",
         29.0,
         "15545",
         "TA1308000009",
         7217
        ],
        [
         "94AC802A09EA31BE",
         "2021-06-03",
         "09:36:17",
         "2021-06-03 09:36:17",
         "2021-06-03 09:38:21",
         "42409",
         "classic_bike",
         49.0,
         "TA1306000003",
         "13021",
         124
        ],
        [
         "D47DF29C94C08D58",
         "2021-06-14",
         "19:12:40",
         "2021-06-14 19:12:40",
         "2021-06-14 19:14:42",
         "45834",
         "electric_bike",
         55.0,
         "TA1306000003",
         "13021",
         122
        ],
        [
         "A14E11622DEFD9CB",
         "2021-06-06",
         "12:47:16",
         "2021-06-06 12:47:16",
         "2021-06-06 13:02:03",
         "63348",
         "classic_bike",
         55.0,
         "13224",
         "13271",
         887
        ],
        [
         "8CC18A43D3768E99",
         "2021-06-05",
         "12:41:03",
         "2021-06-05 12:41:03",
         "2021-06-05 12:47:03",
         "11572",
         "classic_bike",
         36.0,
         "TA1307000164",
         "TA1308000009",
         360
        ],
        [
         "D995F46485664573",
         "2021-06-18",
         "19:52:30",
         "2021-06-18 19:52:30",
         "2021-06-18 20:35:52",
         "52753",
         "classic_bike",
         21.0,
         "TA1306000012",
         "KA1504000171",
         2602
        ],
        [
         "24943516958EF917",
         "2021-06-23",
         "10:30:18",
         "2021-06-23 10:30:18",
         "2021-06-23 10:45:11",
         "70159",
         "electric_bike",
         47.0,
         "TA1307000134",
         "TA1309000033",
         893
        ]
       ],
       "datasetInfos": [],
       "dbfsResultPath": null,
       "isJsonSchema": true,
       "metadata": {},
       "overflow": false,
       "plotOptions": {
        "customPlotOptions": {},
        "displayType": "table",
        "pivotAggregation": null,
        "pivotColumns": null,
        "xColumns": null,
        "yColumns": null
       },
       "removedWidgets": [],
       "schema": [
        {
         "metadata": "{}",
         "name": "trip_id",
         "type": "\"string\""
        },
        {
         "metadata": "{}",
         "name": "trip_date",
         "type": "\"date\""
        },
        {
         "metadata": "{}",
         "name": "trip_time",
         "type": "\"string\""
        },
        {
         "metadata": "{}",
         "name": "started_at",
         "type": "\"string\""
        },
        {
         "metadata": "{}",
         "name": "ended_at",
         "type": "\"string\""
        },
        {
         "metadata": "{}",
         "name": "rider_id",
         "type": "\"string\""
        },
        {
         "metadata": "{}",
         "name": "rideable_type",
         "type": "\"string\""
        },
        {
         "metadata": "{}",
         "name": "rider_age",
         "type": "\"double\""
        },
        {
         "metadata": "{}",
         "name": "start_station_id",
         "type": "\"string\""
        },
        {
         "metadata": "{}",
         "name": "end_station_id",
         "type": "\"string\""
        },
        {
         "metadata": "{}",
         "name": "duration",
         "type": "\"long\""
        }
       ],
       "type": "table"
      }
     },
     "output_type": "display_data"
    }
   ],
   "source": [
    "# Drop if exist\n",
    "spark.sql(\"DROP TABLE IF EXISTS default.fact_trip\")\n",
    "\n",
    "# A lil bit more wrangling and then save as Gold table in `default` directory\n",
    "fact_trip.dropDuplicates([\"trip_id\"])       \\\n",
    "    .write.format(\"delta\")                  \\\n",
    "    .mode(\"overwrite\")                      \\\n",
    "    .saveAsTable(\"default.fact_trip\")\n",
    "\n",
    "# Final check\n",
    "review_fact_trip = spark.table(\"fact_trip\")\n",
    "display(review_fact_trip.limit(nrows_display))"
   ]
  },
  {
   "cell_type": "markdown",
   "metadata": {
    "application/vnd.databricks.v1+cell": {
     "cellMetadata": {
      "byteLimit": 2048000,
      "rowLimit": 10000
     },
     "inputWidgets": {},
     "nuid": "81cee742-99da-49c9-94cb-8aa63301910e",
     "showTitle": false,
     "title": ""
    }
   },
   "source": [
    "## 5. Dimension table - Date"
   ]
  },
  {
   "cell_type": "code",
   "execution_count": 0,
   "metadata": {
    "application/vnd.databricks.v1+cell": {
     "cellMetadata": {
      "byteLimit": 2048000,
      "rowLimit": 10000
     },
     "inputWidgets": {},
     "nuid": "fb876360-c297-466d-a3e8-740c803d2c79",
     "showTitle": false,
     "title": ""
    }
   },
   "outputs": [
    {
     "output_type": "display_data",
     "data": {
      "text/html": [
       "<style scoped>\n",
       "  .table-result-container {\n",
       "    max-height: 300px;\n",
       "    overflow: auto;\n",
       "  }\n",
       "  table, th, td {\n",
       "    border: 1px solid black;\n",
       "    border-collapse: collapse;\n",
       "  }\n",
       "  th, td {\n",
       "    padding: 5px;\n",
       "  }\n",
       "  th {\n",
       "    text-align: left;\n",
       "  }\n",
       "</style><div class='table-result-container'><table class='table-result'><thead style='background-color: white'><tr><th>date_id</th><th>day</th><th>month</th><th>quarter</th><th>year</th><th>day_of_week</th><th>day_of_year</th></tr></thead><tbody><tr><td>2013-01-01</td><td>1</td><td>1</td><td>1</td><td>2013</td><td>3</td><td>1</td></tr><tr><td>2013-01-02</td><td>2</td><td>1</td><td>1</td><td>2013</td><td>4</td><td>2</td></tr><tr><td>2013-01-03</td><td>3</td><td>1</td><td>1</td><td>2013</td><td>5</td><td>3</td></tr><tr><td>2013-01-04</td><td>4</td><td>1</td><td>1</td><td>2013</td><td>6</td><td>4</td></tr><tr><td>2013-01-05</td><td>5</td><td>1</td><td>1</td><td>2013</td><td>7</td><td>5</td></tr><tr><td>2013-01-06</td><td>6</td><td>1</td><td>1</td><td>2013</td><td>1</td><td>6</td></tr><tr><td>2013-01-07</td><td>7</td><td>1</td><td>1</td><td>2013</td><td>2</td><td>7</td></tr><tr><td>2013-01-08</td><td>8</td><td>1</td><td>1</td><td>2013</td><td>3</td><td>8</td></tr><tr><td>2013-01-09</td><td>9</td><td>1</td><td>1</td><td>2013</td><td>4</td><td>9</td></tr><tr><td>2013-01-10</td><td>10</td><td>1</td><td>1</td><td>2013</td><td>5</td><td>10</td></tr></tbody></table></div>"
      ]
     },
     "metadata": {
      "application/vnd.databricks.v1+output": {
       "addedWidgets": {},
       "aggData": [],
       "aggError": "",
       "aggOverflow": false,
       "aggSchema": [],
       "aggSeriesLimitReached": false,
       "aggType": "",
       "arguments": {},
       "columnCustomDisplayInfos": {},
       "data": [
        [
         "2013-01-01",
         "1",
         "1",
         "1",
         "2013",
         "3",
         "1"
        ],
        [
         "2013-01-02",
         "2",
         "1",
         "1",
         "2013",
         "4",
         "2"
        ],
        [
         "2013-01-03",
         "3",
         "1",
         "1",
         "2013",
         "5",
         "3"
        ],
        [
         "2013-01-04",
         "4",
         "1",
         "1",
         "2013",
         "6",
         "4"
        ],
        [
         "2013-01-05",
         "5",
         "1",
         "1",
         "2013",
         "7",
         "5"
        ],
        [
         "2013-01-06",
         "6",
         "1",
         "1",
         "2013",
         "1",
         "6"
        ],
        [
         "2013-01-07",
         "7",
         "1",
         "1",
         "2013",
         "2",
         "7"
        ],
        [
         "2013-01-08",
         "8",
         "1",
         "1",
         "2013",
         "3",
         "8"
        ],
        [
         "2013-01-09",
         "9",
         "1",
         "1",
         "2013",
         "4",
         "9"
        ],
        [
         "2013-01-10",
         "10",
         "1",
         "1",
         "2013",
         "5",
         "10"
        ]
       ],
       "datasetInfos": [],
       "dbfsResultPath": null,
       "isJsonSchema": true,
       "metadata": {},
       "overflow": false,
       "plotOptions": {
        "customPlotOptions": {},
        "displayType": "table",
        "pivotAggregation": null,
        "pivotColumns": null,
        "xColumns": null,
        "yColumns": null
       },
       "removedWidgets": [],
       "schema": [
        {
         "metadata": "{}",
         "name": "date_id",
         "type": "\"string\""
        },
        {
         "metadata": "{}",
         "name": "day",
         "type": "\"string\""
        },
        {
         "metadata": "{}",
         "name": "month",
         "type": "\"string\""
        },
        {
         "metadata": "{}",
         "name": "quarter",
         "type": "\"string\""
        },
        {
         "metadata": "{}",
         "name": "year",
         "type": "\"string\""
        },
        {
         "metadata": "{}",
         "name": "day_of_week",
         "type": "\"string\""
        },
        {
         "metadata": "{}",
         "name": "day_of_year",
         "type": "\"string\""
        }
       ],
       "type": "table"
      }
     },
     "output_type": "display_data"
    }
   ],
   "source": [
    "dates = spark.table(\"stagingdate\")\n",
    "display(dates.limit(nrows_display))"
   ]
  },
  {
   "cell_type": "code",
   "execution_count": 0,
   "metadata": {
    "application/vnd.databricks.v1+cell": {
     "cellMetadata": {
      "byteLimit": 2048000,
      "rowLimit": 10000
     },
     "inputWidgets": {},
     "nuid": "5235b869-4386-4146-8ec8-c83cb4091db2",
     "showTitle": false,
     "title": ""
    }
   },
   "outputs": [
    {
     "output_type": "display_data",
     "data": {
      "text/html": [
       "<style scoped>\n",
       "  .table-result-container {\n",
       "    max-height: 300px;\n",
       "    overflow: auto;\n",
       "  }\n",
       "  table, th, td {\n",
       "    border: 1px solid black;\n",
       "    border-collapse: collapse;\n",
       "  }\n",
       "  th, td {\n",
       "    padding: 5px;\n",
       "  }\n",
       "  th {\n",
       "    text-align: left;\n",
       "  }\n",
       "</style><div class='table-result-container'><table class='table-result'><thead style='background-color: white'><tr><th>date_id</th><th>day</th><th>month</th><th>quarter</th><th>year</th><th>day_of_week</th><th>day_of_year</th></tr></thead><tbody><tr><td>2013-01-22</td><td>22</td><td>1</td><td>1</td><td>2013</td><td>3</td><td>22</td></tr><tr><td>2013-03-26</td><td>26</td><td>3</td><td>1</td><td>2013</td><td>3</td><td>85</td></tr><tr><td>2013-05-21</td><td>21</td><td>5</td><td>2</td><td>2013</td><td>3</td><td>141</td></tr><tr><td>2013-09-09</td><td>9</td><td>9</td><td>3</td><td>2013</td><td>2</td><td>252</td></tr><tr><td>2014-09-26</td><td>26</td><td>9</td><td>3</td><td>2014</td><td>6</td><td>269</td></tr><tr><td>2014-11-12</td><td>12</td><td>11</td><td>4</td><td>2014</td><td>4</td><td>316</td></tr><tr><td>2015-03-09</td><td>9</td><td>3</td><td>1</td><td>2015</td><td>2</td><td>68</td></tr><tr><td>2015-05-19</td><td>19</td><td>5</td><td>2</td><td>2015</td><td>3</td><td>139</td></tr><tr><td>2016-03-01</td><td>1</td><td>3</td><td>1</td><td>2016</td><td>3</td><td>61</td></tr><tr><td>2017-08-11</td><td>11</td><td>8</td><td>3</td><td>2017</td><td>6</td><td>223</td></tr></tbody></table></div>"
      ]
     },
     "metadata": {
      "application/vnd.databricks.v1+output": {
       "addedWidgets": {},
       "aggData": [],
       "aggError": "",
       "aggOverflow": false,
       "aggSchema": [],
       "aggSeriesLimitReached": false,
       "aggType": "",
       "arguments": {},
       "columnCustomDisplayInfos": {},
       "data": [
        [
         "2013-01-22",
         "22",
         "1",
         "1",
         "2013",
         "3",
         "22"
        ],
        [
         "2013-03-26",
         "26",
         "3",
         "1",
         "2013",
         "3",
         "85"
        ],
        [
         "2013-05-21",
         "21",
         "5",
         "2",
         "2013",
         "3",
         "141"
        ],
        [
         "2013-09-09",
         "9",
         "9",
         "3",
         "2013",
         "2",
         "252"
        ],
        [
         "2014-09-26",
         "26",
         "9",
         "3",
         "2014",
         "6",
         "269"
        ],
        [
         "2014-11-12",
         "12",
         "11",
         "4",
         "2014",
         "4",
         "316"
        ],
        [
         "2015-03-09",
         "9",
         "3",
         "1",
         "2015",
         "2",
         "68"
        ],
        [
         "2015-05-19",
         "19",
         "5",
         "2",
         "2015",
         "3",
         "139"
        ],
        [
         "2016-03-01",
         "1",
         "3",
         "1",
         "2016",
         "3",
         "61"
        ],
        [
         "2017-08-11",
         "11",
         "8",
         "3",
         "2017",
         "6",
         "223"
        ]
       ],
       "datasetInfos": [],
       "dbfsResultPath": null,
       "isJsonSchema": true,
       "metadata": {},
       "overflow": false,
       "plotOptions": {
        "customPlotOptions": {},
        "displayType": "table",
        "pivotAggregation": null,
        "pivotColumns": null,
        "xColumns": null,
        "yColumns": null
       },
       "removedWidgets": [],
       "schema": [
        {
         "metadata": "{}",
         "name": "date_id",
         "type": "\"date\""
        },
        {
         "metadata": "{}",
         "name": "day",
         "type": "\"string\""
        },
        {
         "metadata": "{}",
         "name": "month",
         "type": "\"string\""
        },
        {
         "metadata": "{}",
         "name": "quarter",
         "type": "\"string\""
        },
        {
         "metadata": "{}",
         "name": "year",
         "type": "\"string\""
        },
        {
         "metadata": "{}",
         "name": "day_of_week",
         "type": "\"string\""
        },
        {
         "metadata": "{}",
         "name": "day_of_year",
         "type": "\"string\""
        }
       ],
       "type": "table"
      }
     },
     "output_type": "display_data"
    }
   ],
   "source": [
    "# Drop if exist\n",
    "spark.sql(\"DROP TABLE IF EXISTS default.dim_date\")\n",
    "\n",
    "# Data wrangling (basically dropping duplicates in surrogate column), and then save as Gold table in `default` directory\n",
    "dates.withColumn(                           \\\n",
    "    \"date_id\",                              \\\n",
    "    f.to_date(col(\"date_id\"), \"yyy-MM-dd\")  \\\n",
    ")                                           \\\n",
    "    .dropDuplicates([\"date_id\"])            \\\n",
    "    .write.format(\"delta\")                  \\\n",
    "    .mode(\"overwrite\")                      \\\n",
    "    .saveAsTable(\"default.dim_date\")\n",
    "\n",
    "# Final check\n",
    "review_dim_date = spark.table(\"dim_date\")\n",
    "display(review_dim_date.limit(nrows_display))"
   ]
  }
 ],
 "metadata": {
  "application/vnd.databricks.v1+notebook": {
   "dashboards": [],
   "language": "python",
   "notebookMetadata": {
    "pythonIndentUnit": 4
   },
   "notebookName": "TRANSFORM",
   "widgets": {}
  }
 },
 "nbformat": 4,
 "nbformat_minor": 0
}
